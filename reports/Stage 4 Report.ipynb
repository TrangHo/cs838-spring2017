{
 "cells": [
  {
   "cell_type": "markdown",
   "metadata": {},
   "source": [
    "\n",
    "#  Stage 4: Combining Two Tables #\n",
    "\n",
    "#### Trang Ho, Thomas Ngo, Qinyuan Sun\n",
    "\n"
   ]
  },
  {
   "cell_type": "markdown",
   "metadata": {},
   "source": [
    "    how did you combine the two tables A and B to obtain E? Did you add any other table? When you did the combination, did you run into any issues? Discuss the combination process in detail, e.g., when you merge tuples, what are the merging functions (such as to merge two age values, always select the age value from the tuple from Table A, unless this value is missing in which case we select the value from the tuple in Table B). \n",
    "    statistics on Table E: specifically, what is the schema of Table E, how many tuples are in Table E? Give at least four sample tuples from Table E. \n",
    "    append the code of the Python script to the end of this pdf file. "
   ]
  },
  {
   "cell_type": "markdown",
   "metadata": {},
   "source": [
    "We have two tables AOM and WHED with schema as following:\n",
    "- WHED(__a_id__, a_name, a_city, a_prov, a_country, a_web)\n",
    "- AOM(__person_id__, a_name, a_city, a_prov, a_country, a_email_server)\n",
    "\n",
    "The AOM table contains information on affiliation name, city, province/state, country, and email server provided by conference attendants. Consequently, information on the AOM table may be incomplete or inaccurate. For example, conference attendants might provide affiliation name at the school level (e.g. Wisconsin School of Business) instead of at the university level (e.g. University of Wisconsin - Madison)\n",
    "\n",
    "The WHED table contains standard information on name, city, province/state, country, website domain of affliations. Hence, we try to map each individual in AOM to an affiliation in WHED and keep the affliation information in WHED table when merging.\n",
    "\n",
    "After stage 3, we have applied the entity matching to WHED and AOM tables to obtain a list of matching tuples for individuals and affliations in the US only. This is stored in *matched_tuples.csv*. To merge the two tables, we use the information in WHED as the anchor for affiliation. Hence, we keep the columns in WHED and remove all columns related to affiliation in AOM and obtain the table with the following schema:\n",
    "- AOM(person_id, a_id, a_name, a_city, a_prov, a_country, a_web)\n",
    "\n",
    "The final table E has columns person_id, a_id, a_name, a_city, a_prov, a_country, a_web. Since person_id is unique, we set it to be the key of the table"
   ]
  },
  {
   "cell_type": "code",
   "execution_count": null,
   "metadata": {
    "collapsed": true
   },
   "outputs": [],
   "source": [
    "US"
   ]
  }
 ],
 "metadata": {
  "kernelspec": {
   "display_name": "Python 3",
   "language": "python",
   "name": "python3"
  },
  "language_info": {
   "codemirror_mode": {
    "name": "ipython",
    "version": 3
   },
   "file_extension": ".py",
   "mimetype": "text/x-python",
   "name": "python",
   "nbconvert_exporter": "python",
   "pygments_lexer": "ipython3",
   "version": "3.5.3"
  }
 },
 "nbformat": 4,
 "nbformat_minor": 0
}
