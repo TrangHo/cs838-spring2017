{
 "cells": [
  {
   "cell_type": "code",
   "execution_count": 8,
   "metadata": {
    "collapsed": false
   },
   "outputs": [
    {
     "name": "stdout",
     "output_type": "stream",
     "text": [
      "magellan version:0.1.0\n"
     ]
    },
    {
     "name": "stderr",
     "output_type": "stream",
     "text": [
      "/Users/Ken/anaconda/lib/python3.5/site-packages/pandas/computation/__init__.py:19: UserWarning: The installed version of numexpr 2.4.4 is not supported in pandas and will be not be used\n",
      "\n",
      "  UserWarning)\n"
     ]
    }
   ],
   "source": [
    "import sys\n",
    "import os\n",
    "import py_entitymatching as em\n",
    "print('magellan version:' + em.__version__)\n",
    "import re\n",
    "import csv\n",
    "import pandas as pd\n",
    "\n",
    "from cleaner import Cleaner\n",
    "from constants import csv_headers"
   ]
  },
  {
   "cell_type": "code",
   "execution_count": 13,
   "metadata": {
    "collapsed": false
   },
   "outputs": [
    {
     "name": "stderr",
     "output_type": "stream",
     "text": [
      "WARNING:py_entitymatching.io.parsers:Metadata file is not present in the given path; proceeding to read the csv file.\n",
      "WARNING:py_entitymatching.io.parsers:Metadata file is not present in the given path; proceeding to read the csv file.\n",
      "WARNING:py_entitymatching.io.parsers:Metadata file is not present in the given path; proceeding to read the csv file.\n"
     ]
    }
   ],
   "source": [
    "working_dir = os.path.dirname(os.getcwd())\n",
    "path_to_csv_dir = working_dir + os.sep + 'csv_files'+ os.sep\n",
    "\n",
    "AOM = em.read_csv_metadata(path_to_csv_dir + '_aom.csv', key = csv_headers.AOM_INDEX)\n",
    "WHED = em.read_csv_metadata(path_to_csv_dir + '_whed.csv', key = csv_headers.WHED_INDEX)\n",
    "labeled_data = em.read_csv_metadata(path_to_csv_dir + 'golden_data_labeled_nomissing.csv', key='_id',\n",
    "                                                                 ltable=WHED, rtable=AOM, \n",
    "                                                                 fk_ltable='ltable_' + csv_headers.WHED_INDEX, \n",
    "                                                                 fk_rtable='rtable_' + csv_headers.AOM_INDEX,encoding = \"ISO-8859-1\")"
   ]
  },
  {
   "cell_type": "code",
   "execution_count": 14,
   "metadata": {
    "collapsed": false
   },
   "outputs": [],
   "source": [
    "IJ = em.split_train_test(labeled_data, train_proportion=0.5, random_state=0)\n",
    "I = IJ['train']\n",
    "J = IJ['test']"
   ]
  },
  {
   "cell_type": "code",
   "execution_count": 15,
   "metadata": {
    "collapsed": false
   },
   "outputs": [],
   "source": [
    "# Create a set of ML-matchers\n",
    "dt = em.DTMatcher(name='DecisionTree', random_state=0)\n",
    "svm = em.SVMMatcher(name='SVM', random_state=0)\n",
    "rf = em.RFMatcher(name='RF', random_state=0)\n",
    "lg = em.LogRegMatcher(name='LogReg', random_state=0)\n",
    "ln = em.LinRegMatcher(name='LinReg')"
   ]
  },
  {
   "cell_type": "code",
   "execution_count": 46,
   "metadata": {
    "collapsed": false
   },
   "outputs": [
    {
     "data": {
      "text/plain": [
       "0               a_name_a_name_jac_qgm_3_qgm_3\n",
       "1           a_name_a_name_cos_dlm_dc0_dlm_dc0\n",
       "2           a_name_a_name_jac_dlm_dc0_dlm_dc0\n",
       "3                           a_name_a_name_mel\n",
       "4                      a_name_a_name_lev_dist\n",
       "5                       a_name_a_name_lev_sim\n",
       "6                           a_name_a_name_nmw\n",
       "7                            a_name_a_name_sw\n",
       "8         a_country_a_country_jac_qgm_3_qgm_3\n",
       "9     a_country_a_country_cos_dlm_dc0_dlm_dc0\n",
       "10    a_country_a_country_jac_dlm_dc0_dlm_dc0\n",
       "11                    a_country_a_country_mel\n",
       "12               a_country_a_country_lev_dist\n",
       "13                a_country_a_country_lev_sim\n",
       "14                    a_country_a_country_nmw\n",
       "15                     a_country_a_country_sw\n",
       "16              a_city_a_city_jac_qgm_3_qgm_3\n",
       "17          a_city_a_city_cos_dlm_dc0_dlm_dc0\n",
       "18          a_city_a_city_jac_dlm_dc0_dlm_dc0\n",
       "19                          a_city_a_city_mel\n",
       "20                     a_city_a_city_lev_dist\n",
       "21                      a_city_a_city_lev_sim\n",
       "22                          a_city_a_city_nmw\n",
       "23                           a_city_a_city_sw\n",
       "24              a_prov_a_prov_jac_qgm_3_qgm_3\n",
       "25          a_prov_a_prov_cos_dlm_dc0_dlm_dc0\n",
       "26          a_prov_a_prov_jac_dlm_dc0_dlm_dc0\n",
       "27                          a_prov_a_prov_mel\n",
       "28                     a_prov_a_prov_lev_dist\n",
       "29                      a_prov_a_prov_lev_sim\n",
       "30                          a_prov_a_prov_nmw\n",
       "31                           a_prov_a_prov_sw\n",
       "Name: feature_name, dtype: object"
      ]
     },
     "execution_count": 46,
     "metadata": {},
     "output_type": "execute_result"
    }
   ],
   "source": [
    "# Generate a set of features\n",
    "F = em.get_features_for_matching(WHED, AOM)\n",
    "\n",
    "def is_same_server(ltuple, rtuple):\n",
    "    # Attention, the input argument is not symmetric,\n",
    "    # dealing with missing data, if either table is missing city, return 0\n",
    "    if pd.isnull(ltuple['a_web']) or pd.isnull(rtuple['a_email_server']):\n",
    "        return 0\n",
    "    # return 1 if is same city, 0 otherwise\n",
    "    if ltuple['a_web'] in rtuple['a_email_server']:\n",
    "        return 1\n",
    "    else:\n",
    "        return 0\n",
    "\n",
    "# em.add_blackbox_feature(F, 'is_same_server', is_same_server)\n",
    "\n",
    "F.feature_name"
   ]
  },
  {
   "cell_type": "code",
   "execution_count": 47,
   "metadata": {
    "collapsed": false
   },
   "outputs": [
    {
     "data": {
      "text/html": [
       "<div>\n",
       "<table border=\"1\" class=\"dataframe\">\n",
       "  <thead>\n",
       "    <tr style=\"text-align: right;\">\n",
       "      <th></th>\n",
       "      <th>_id</th>\n",
       "      <th>ltable_a_id</th>\n",
       "      <th>rtable_person_id</th>\n",
       "      <th>a_name_a_name_jac_qgm_3_qgm_3</th>\n",
       "      <th>a_name_a_name_cos_dlm_dc0_dlm_dc0</th>\n",
       "      <th>a_name_a_name_jac_dlm_dc0_dlm_dc0</th>\n",
       "      <th>a_name_a_name_mel</th>\n",
       "      <th>a_name_a_name_lev_dist</th>\n",
       "      <th>a_name_a_name_lev_sim</th>\n",
       "      <th>a_name_a_name_nmw</th>\n",
       "      <th>...</th>\n",
       "      <th>a_city_a_city_sw</th>\n",
       "      <th>a_prov_a_prov_jac_qgm_3_qgm_3</th>\n",
       "      <th>a_prov_a_prov_cos_dlm_dc0_dlm_dc0</th>\n",
       "      <th>a_prov_a_prov_jac_dlm_dc0_dlm_dc0</th>\n",
       "      <th>a_prov_a_prov_mel</th>\n",
       "      <th>a_prov_a_prov_lev_dist</th>\n",
       "      <th>a_prov_a_prov_lev_sim</th>\n",
       "      <th>a_prov_a_prov_nmw</th>\n",
       "      <th>a_prov_a_prov_sw</th>\n",
       "      <th>gold_label</th>\n",
       "    </tr>\n",
       "  </thead>\n",
       "  <tbody>\n",
       "    <tr>\n",
       "      <th>408</th>\n",
       "      <td>8607</td>\n",
       "      <td>20499</td>\n",
       "      <td>31346</td>\n",
       "      <td>0.348837</td>\n",
       "      <td>0.670820</td>\n",
       "      <td>0.500000</td>\n",
       "      <td>0.725774</td>\n",
       "      <td>20.0</td>\n",
       "      <td>0.285714</td>\n",
       "      <td>2.0</td>\n",
       "      <td>...</td>\n",
       "      <td>1.0</td>\n",
       "      <td>0.000000</td>\n",
       "      <td>0.000000</td>\n",
       "      <td>0.0</td>\n",
       "      <td>0.711111</td>\n",
       "      <td>13.0</td>\n",
       "      <td>0.133333</td>\n",
       "      <td>-11.0</td>\n",
       "      <td>1.0</td>\n",
       "      <td>0</td>\n",
       "    </tr>\n",
       "    <tr>\n",
       "      <th>405</th>\n",
       "      <td>8536</td>\n",
       "      <td>20480</td>\n",
       "      <td>43972</td>\n",
       "      <td>0.333333</td>\n",
       "      <td>0.612372</td>\n",
       "      <td>0.428571</td>\n",
       "      <td>0.671100</td>\n",
       "      <td>22.0</td>\n",
       "      <td>0.371429</td>\n",
       "      <td>-1.0</td>\n",
       "      <td>...</td>\n",
       "      <td>1.0</td>\n",
       "      <td>NaN</td>\n",
       "      <td>NaN</td>\n",
       "      <td>NaN</td>\n",
       "      <td>NaN</td>\n",
       "      <td>NaN</td>\n",
       "      <td>NaN</td>\n",
       "      <td>NaN</td>\n",
       "      <td>NaN</td>\n",
       "      <td>0</td>\n",
       "    </tr>\n",
       "    <tr>\n",
       "      <th>108</th>\n",
       "      <td>2217</td>\n",
       "      <td>3081</td>\n",
       "      <td>57232</td>\n",
       "      <td>0.379310</td>\n",
       "      <td>0.632456</td>\n",
       "      <td>0.400000</td>\n",
       "      <td>0.888000</td>\n",
       "      <td>14.0</td>\n",
       "      <td>0.440000</td>\n",
       "      <td>-3.0</td>\n",
       "      <td>...</td>\n",
       "      <td>8.0</td>\n",
       "      <td>0.000000</td>\n",
       "      <td>0.000000</td>\n",
       "      <td>0.0</td>\n",
       "      <td>0.537037</td>\n",
       "      <td>7.0</td>\n",
       "      <td>0.222222</td>\n",
       "      <td>-5.0</td>\n",
       "      <td>1.0</td>\n",
       "      <td>1</td>\n",
       "    </tr>\n",
       "    <tr>\n",
       "      <th>367</th>\n",
       "      <td>7654</td>\n",
       "      <td>20222</td>\n",
       "      <td>46848</td>\n",
       "      <td>0.100000</td>\n",
       "      <td>0.408248</td>\n",
       "      <td>0.250000</td>\n",
       "      <td>0.511905</td>\n",
       "      <td>19.0</td>\n",
       "      <td>0.095238</td>\n",
       "      <td>-11.0</td>\n",
       "      <td>...</td>\n",
       "      <td>1.0</td>\n",
       "      <td>0.333333</td>\n",
       "      <td>0.707107</td>\n",
       "      <td>0.5</td>\n",
       "      <td>0.890909</td>\n",
       "      <td>6.0</td>\n",
       "      <td>0.454545</td>\n",
       "      <td>-1.0</td>\n",
       "      <td>5.0</td>\n",
       "      <td>0</td>\n",
       "    </tr>\n",
       "    <tr>\n",
       "      <th>218</th>\n",
       "      <td>4368</td>\n",
       "      <td>16426</td>\n",
       "      <td>52334</td>\n",
       "      <td>0.181818</td>\n",
       "      <td>0.654654</td>\n",
       "      <td>0.428571</td>\n",
       "      <td>0.614251</td>\n",
       "      <td>28.0</td>\n",
       "      <td>0.243243</td>\n",
       "      <td>-17.0</td>\n",
       "      <td>...</td>\n",
       "      <td>0.0</td>\n",
       "      <td>0.000000</td>\n",
       "      <td>0.000000</td>\n",
       "      <td>0.0</td>\n",
       "      <td>0.537037</td>\n",
       "      <td>7.0</td>\n",
       "      <td>0.222222</td>\n",
       "      <td>-5.0</td>\n",
       "      <td>1.0</td>\n",
       "      <td>0</td>\n",
       "    </tr>\n",
       "  </tbody>\n",
       "</table>\n",
       "<p>5 rows × 36 columns</p>\n",
       "</div>"
      ],
      "text/plain": [
       "      _id  ltable_a_id  rtable_person_id  a_name_a_name_jac_qgm_3_qgm_3  \\\n",
       "408  8607        20499             31346                       0.348837   \n",
       "405  8536        20480             43972                       0.333333   \n",
       "108  2217         3081             57232                       0.379310   \n",
       "367  7654        20222             46848                       0.100000   \n",
       "218  4368        16426             52334                       0.181818   \n",
       "\n",
       "     a_name_a_name_cos_dlm_dc0_dlm_dc0  a_name_a_name_jac_dlm_dc0_dlm_dc0  \\\n",
       "408                           0.670820                           0.500000   \n",
       "405                           0.612372                           0.428571   \n",
       "108                           0.632456                           0.400000   \n",
       "367                           0.408248                           0.250000   \n",
       "218                           0.654654                           0.428571   \n",
       "\n",
       "     a_name_a_name_mel  a_name_a_name_lev_dist  a_name_a_name_lev_sim  \\\n",
       "408           0.725774                    20.0               0.285714   \n",
       "405           0.671100                    22.0               0.371429   \n",
       "108           0.888000                    14.0               0.440000   \n",
       "367           0.511905                    19.0               0.095238   \n",
       "218           0.614251                    28.0               0.243243   \n",
       "\n",
       "     a_name_a_name_nmw     ...      a_city_a_city_sw  \\\n",
       "408                2.0     ...                   1.0   \n",
       "405               -1.0     ...                   1.0   \n",
       "108               -3.0     ...                   8.0   \n",
       "367              -11.0     ...                   1.0   \n",
       "218              -17.0     ...                   0.0   \n",
       "\n",
       "     a_prov_a_prov_jac_qgm_3_qgm_3  a_prov_a_prov_cos_dlm_dc0_dlm_dc0  \\\n",
       "408                       0.000000                           0.000000   \n",
       "405                            NaN                                NaN   \n",
       "108                       0.000000                           0.000000   \n",
       "367                       0.333333                           0.707107   \n",
       "218                       0.000000                           0.000000   \n",
       "\n",
       "     a_prov_a_prov_jac_dlm_dc0_dlm_dc0  a_prov_a_prov_mel  \\\n",
       "408                                0.0           0.711111   \n",
       "405                                NaN                NaN   \n",
       "108                                0.0           0.537037   \n",
       "367                                0.5           0.890909   \n",
       "218                                0.0           0.537037   \n",
       "\n",
       "     a_prov_a_prov_lev_dist  a_prov_a_prov_lev_sim  a_prov_a_prov_nmw  \\\n",
       "408                    13.0               0.133333              -11.0   \n",
       "405                     NaN                    NaN                NaN   \n",
       "108                     7.0               0.222222               -5.0   \n",
       "367                     6.0               0.454545               -1.0   \n",
       "218                     7.0               0.222222               -5.0   \n",
       "\n",
       "     a_prov_a_prov_sw  gold_label  \n",
       "408               1.0           0  \n",
       "405               NaN           0  \n",
       "108               1.0           1  \n",
       "367               5.0           0  \n",
       "218               1.0           0  \n",
       "\n",
       "[5 rows x 36 columns]"
      ]
     },
     "execution_count": 47,
     "metadata": {},
     "output_type": "execute_result"
    }
   ],
   "source": [
    "# Convert the I into a set of feature vectors using F\n",
    "H = em.extract_feature_vecs(I, \n",
    "                            feature_table=F, \n",
    "                            attrs_after='gold_label',\n",
    "                            show_progress=False)  \n",
    "# Display first few rows\n",
    "H.head()\n"
   ]
  },
  {
   "cell_type": "code",
   "execution_count": 18,
   "metadata": {
    "collapsed": false
   },
   "outputs": [
    {
     "data": {
      "text/plain": [
       "True"
      ]
     },
     "execution_count": 18,
     "metadata": {},
     "output_type": "execute_result"
    }
   ],
   "source": [
    "# Check if the feature vectors contain missing values\n",
    "# A return value of True means that there are missing values\n",
    "any(pd.notnull(H))"
   ]
  },
  {
   "cell_type": "code",
   "execution_count": 48,
   "metadata": {
    "collapsed": false
   },
   "outputs": [],
   "source": [
    "# Impute feature vectors with the mean of the column values.\n",
    "H = em.impute_table(H, \n",
    "                exclude_attrs=['_id', 'ltable_' + csv_headers.WHED_INDEX, 'rtable_' + csv_headers.AOM_INDEX, 'gold_label'],\n",
    "                strategy='mean')"
   ]
  },
  {
   "cell_type": "code",
   "execution_count": 49,
   "metadata": {
    "collapsed": false,
    "scrolled": true
   },
   "outputs": [
    {
     "data": {
      "text/html": [
       "<div>\n",
       "<table border=\"1\" class=\"dataframe\">\n",
       "  <thead>\n",
       "    <tr style=\"text-align: right;\">\n",
       "      <th></th>\n",
       "      <th>Name</th>\n",
       "      <th>Matcher</th>\n",
       "      <th>Num folds</th>\n",
       "      <th>Fold 1</th>\n",
       "      <th>Fold 2</th>\n",
       "      <th>Fold 3</th>\n",
       "      <th>Fold 4</th>\n",
       "      <th>Fold 5</th>\n",
       "      <th>Mean score</th>\n",
       "    </tr>\n",
       "  </thead>\n",
       "  <tbody>\n",
       "    <tr>\n",
       "      <th>0</th>\n",
       "      <td>DecisionTree</td>\n",
       "      <td>&lt;py_entitymatching.matcher.dtmatcher.DTMatcher object at 0x114f94898&gt;</td>\n",
       "      <td>5</td>\n",
       "      <td>0.833333</td>\n",
       "      <td>0.727273</td>\n",
       "      <td>0.850000</td>\n",
       "      <td>0.937500</td>\n",
       "      <td>1.0</td>\n",
       "      <td>0.869621</td>\n",
       "    </tr>\n",
       "    <tr>\n",
       "      <th>1</th>\n",
       "      <td>RF</td>\n",
       "      <td>&lt;py_entitymatching.matcher.rfmatcher.RFMatcher object at 0x114f947f0&gt;</td>\n",
       "      <td>5</td>\n",
       "      <td>0.933333</td>\n",
       "      <td>1.000000</td>\n",
       "      <td>0.947368</td>\n",
       "      <td>0.933333</td>\n",
       "      <td>1.0</td>\n",
       "      <td>0.962807</td>\n",
       "    </tr>\n",
       "    <tr>\n",
       "      <th>2</th>\n",
       "      <td>SVM</td>\n",
       "      <td>&lt;py_entitymatching.matcher.svmmatcher.SVMMatcher object at 0x114f94860&gt;</td>\n",
       "      <td>5</td>\n",
       "      <td>0.846154</td>\n",
       "      <td>1.000000</td>\n",
       "      <td>0.933333</td>\n",
       "      <td>1.000000</td>\n",
       "      <td>1.0</td>\n",
       "      <td>0.955897</td>\n",
       "    </tr>\n",
       "    <tr>\n",
       "      <th>3</th>\n",
       "      <td>LinReg</td>\n",
       "      <td>&lt;py_entitymatching.matcher.linregmatcher.LinRegMatcher object at 0x115d6d400&gt;</td>\n",
       "      <td>5</td>\n",
       "      <td>0.875000</td>\n",
       "      <td>0.833333</td>\n",
       "      <td>0.944444</td>\n",
       "      <td>1.000000</td>\n",
       "      <td>1.0</td>\n",
       "      <td>0.930556</td>\n",
       "    </tr>\n",
       "    <tr>\n",
       "      <th>4</th>\n",
       "      <td>LogReg</td>\n",
       "      <td>&lt;py_entitymatching.matcher.logregmatcher.LogRegMatcher object at 0x114f94780&gt;</td>\n",
       "      <td>5</td>\n",
       "      <td>0.928571</td>\n",
       "      <td>0.750000</td>\n",
       "      <td>0.941176</td>\n",
       "      <td>0.928571</td>\n",
       "      <td>0.8</td>\n",
       "      <td>0.869664</td>\n",
       "    </tr>\n",
       "  </tbody>\n",
       "</table>\n",
       "</div>"
      ],
      "text/plain": [
       "           Name  \\\n",
       "0  DecisionTree   \n",
       "1            RF   \n",
       "2           SVM   \n",
       "3        LinReg   \n",
       "4        LogReg   \n",
       "\n",
       "                                                                         Matcher  \\\n",
       "0          <py_entitymatching.matcher.dtmatcher.DTMatcher object at 0x114f94898>   \n",
       "1          <py_entitymatching.matcher.rfmatcher.RFMatcher object at 0x114f947f0>   \n",
       "2        <py_entitymatching.matcher.svmmatcher.SVMMatcher object at 0x114f94860>   \n",
       "3  <py_entitymatching.matcher.linregmatcher.LinRegMatcher object at 0x115d6d400>   \n",
       "4  <py_entitymatching.matcher.logregmatcher.LogRegMatcher object at 0x114f94780>   \n",
       "\n",
       "   Num folds    Fold 1    Fold 2    Fold 3    Fold 4  Fold 5  Mean score  \n",
       "0          5  0.833333  0.727273  0.850000  0.937500     1.0    0.869621  \n",
       "1          5  0.933333  1.000000  0.947368  0.933333     1.0    0.962807  \n",
       "2          5  0.846154  1.000000  0.933333  1.000000     1.0    0.955897  \n",
       "3          5  0.875000  0.833333  0.944444  1.000000     1.0    0.930556  \n",
       "4          5  0.928571  0.750000  0.941176  0.928571     0.8    0.869664  "
      ]
     },
     "execution_count": 49,
     "metadata": {},
     "output_type": "execute_result"
    }
   ],
   "source": [
    "# Select the best ML matcher using CV\n",
    "result = em.select_matcher([dt, rf, svm, ln, lg], table=H, \n",
    "        exclude_attrs=['_id', 'ltable_' + csv_headers.WHED_INDEX, 'rtable_' + csv_headers.AOM_INDEX, 'gold_label'],\n",
    "        k=5,\n",
    "        target_attr='gold_label', metric='precision', random_state=0)\n",
    "result['cv_stats']"
   ]
  },
  {
   "cell_type": "code",
   "execution_count": 41,
   "metadata": {
    "collapsed": false
   },
   "outputs": [
    {
     "name": "stdout",
     "output_type": "stream",
     "text": [
      "OrderedDict([('selected_matcher', <py_entitymatching.matcher.linregmatcher.LinRegMatcher object at 0x115d6d400>), ('cv_stats',            Name  \\\n",
      "0  DecisionTree   \n",
      "1            RF   \n",
      "2           SVM   \n",
      "3        LinReg   \n",
      "4        LogReg   \n",
      "\n",
      "                                                                         Matcher  \\\n",
      "0          <py_entitymatching.matcher.dtmatcher.DTMatcher object at 0x114f94898>   \n",
      "1          <py_entitymatching.matcher.rfmatcher.RFMatcher object at 0x114f947f0>   \n",
      "2        <py_entitymatching.matcher.svmmatcher.SVMMatcher object at 0x114f94860>   \n",
      "3  <py_entitymatching.matcher.linregmatcher.LinRegMatcher object at 0x115d6d400>   \n",
      "4  <py_entitymatching.matcher.logregmatcher.LogRegMatcher object at 0x114f94780>   \n",
      "\n",
      "   Num folds  Fold 1    Fold 2    Fold 3    Fold 4    Fold 5  Mean score  \n",
      "0          5  0.9375  0.727273  0.944444  0.941176  0.666667    0.843412  \n",
      "1          5  0.8750  0.727273  0.944444  0.823529  0.714286    0.816906  \n",
      "2          5  0.6875  0.363636  0.777778  0.529412  0.190476    0.509760  \n",
      "3          5  0.8750  0.909091  0.944444  0.764706  0.761905    0.851029  \n",
      "4          5  0.8125  0.818182  0.888889  0.764706  0.761905    0.809236  )])\n"
     ]
    }
   ],
   "source": [
    "print(result)"
   ]
  },
  {
   "cell_type": "code",
   "execution_count": 31,
   "metadata": {
    "collapsed": false
   },
   "outputs": [],
   "source": [
    "# Convert the J into a set of feature vectors using F\n",
    "K = em.extract_feature_vecs(J, \n",
    "                            feature_table=F, \n",
    "                            attrs_after='gold_label',\n",
    "                            show_progress=False)  \n",
    "K = em.impute_table(K, \n",
    "                exclude_attrs=['_id', 'ltable_' + csv_headers.WHED_INDEX, 'rtable_' + csv_headers.AOM_INDEX, 'gold_label'],\n",
    "                strategy='mean')"
   ]
  },
  {
   "cell_type": "code",
   "execution_count": 44,
   "metadata": {
    "collapsed": false
   },
   "outputs": [],
   "source": [
    "rf.fit(table=H, exclude_attrs=['_id', 'ltable_' + csv_headers.WHED_INDEX, 'rtable_' + csv_headers.AOM_INDEX, 'gold_label'], target_attr='gold_label')\n",
    "predictions = rf.predict(table=K, exclude_attrs=['_id', 'ltable_' + csv_headers.WHED_INDEX, 'rtable_' + csv_headers.AOM_INDEX, 'gold_label'],\n",
    "                append=True, target_attr='predicted', inplace=False)\n"
   ]
  },
  {
   "cell_type": "code",
   "execution_count": 45,
   "metadata": {
    "collapsed": false
   },
   "outputs": [
    {
     "name": "stdout",
     "output_type": "stream",
     "text": [
      "OrderedDict([('prec_numerator', 72.0), ('prec_denominator', 76.0), ('precision', 0.9473684210526315), ('recall_numerator', 72.0), ('recall_denominator', 79.0), ('recall', 0.9113924050632911), ('f1', 0.9290322580645162), ('pred_pos_num', 76.0), ('false_pos_num', 4.0), ('false_pos_ls', [(11527, 35914), (19863, 17955), (18647, 57879), (13965, 35547)]), ('pred_neg_num', 163.0), ('false_neg_num', 7.0), ('false_neg_ls', [(20607, 50974), (18757, 5307), (11313, 46559), (18757, 16712), (20629, 39304), (20621, 31808), (10172, 56019)])])\n"
     ]
    }
   ],
   "source": [
    "eval_summary = em.eval_matches(predictions, 'gold_label', 'predicted')\n",
    "print(eval_summary)"
   ]
  },
  {
   "cell_type": "code",
   "execution_count": null,
   "metadata": {
    "collapsed": true
   },
   "outputs": [],
   "source": []
  }
 ],
 "metadata": {
  "kernelspec": {
   "display_name": "Python 3",
   "language": "python",
   "name": "python3"
  },
  "language_info": {
   "codemirror_mode": {
    "name": "ipython",
    "version": 3
   },
   "file_extension": ".py",
   "mimetype": "text/x-python",
   "name": "python",
   "nbconvert_exporter": "python",
   "pygments_lexer": "ipython3",
   "version": "3.5.3"
  }
 },
 "nbformat": 4,
 "nbformat_minor": 2
}
