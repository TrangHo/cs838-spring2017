{
 "cells": [
  {
   "cell_type": "code",
   "execution_count": 28,
   "metadata": {
    "collapsed": false
   },
   "outputs": [
    {
     "name": "stdout",
     "output_type": "stream",
     "text": [
      "magellan version:0.1.0\n"
     ]
    }
   ],
   "source": [
    "import sys\n",
    "import os\n",
    "import py_entitymatching as em\n",
    "print('magellan version:' + em.__version__)\n",
    "import re\n",
    "import csv\n",
    "import pandas as pd\n",
    "\n",
    "from cleaner import Cleaner\n",
    "from constants import csv_headers"
   ]
  },
  {
   "cell_type": "code",
   "execution_count": 30,
   "metadata": {
    "collapsed": false
   },
   "outputs": [
    {
     "name": "stderr",
     "output_type": "stream",
     "text": [
      "Metadata file is not present in the given path; proceeding to read the csv file.\n",
      "Metadata file is not present in the given path; proceeding to read the csv file.\n"
     ]
    }
   ],
   "source": [
    "working_dir = os.path.dirname(os.getcwd())\n",
    "path_to_csv_dir = working_dir + os.sep + 'csv_files'+ os.sep\n",
    "\n",
    "AOM = em.read_csv_metadata(path_to_csv_dir + '_aom_cleaned.csv', key = csv_headers.AOM_INDEX)\n",
    "WHED = em.read_csv_metadata(path_to_csv_dir + '_whed_cleaned.csv', key = csv_headers.WHED_INDEX)\n",
    "labeled_data = em.read_csv_metadata(path_to_csv_dir + 'G_combined.csv', key='_id',\n",
    "                                                                 ltable=WHED, rtable=AOM, \n",
    "                                                                 fk_ltable='ltable_' + csv_headers.WHED_INDEX, \n",
    "                                                                 fk_rtable='rtable_' + csv_headers.AOM_INDEX)"
   ]
  },
  {
   "cell_type": "code",
   "execution_count": 31,
   "metadata": {
    "collapsed": false
   },
   "outputs": [],
   "source": [
    "IJ = em.split_train_test(labeled_data, train_proportion=0.5, random_state=0)\n",
    "I = IJ['train']\n",
    "J = IJ['test']"
   ]
  },
  {
   "cell_type": "code",
   "execution_count": 32,
   "metadata": {
    "collapsed": false
   },
   "outputs": [],
   "source": [
    "# Create a set of ML-matchers\n",
    "dt = em.DTMatcher(name='DecisionTree', random_state=0)\n",
    "svm = em.SVMMatcher(name='SVM', random_state=0)\n",
    "rf = em.RFMatcher(name='RF', random_state=0)\n",
    "lg = em.LogRegMatcher(name='LogReg', random_state=0)\n",
    "ln = em.LinRegMatcher(name='LinReg')"
   ]
  },
  {
   "cell_type": "code",
   "execution_count": 33,
   "metadata": {
    "collapsed": false
   },
   "outputs": [
    {
     "data": {
      "text/plain": [
       "0               a_name_a_name_jac_qgm_3_qgm_3\n",
       "1           a_name_a_name_cos_dlm_dc0_dlm_dc0\n",
       "2           a_name_a_name_jac_dlm_dc0_dlm_dc0\n",
       "3                           a_name_a_name_mel\n",
       "4                      a_name_a_name_lev_dist\n",
       "5                       a_name_a_name_lev_sim\n",
       "6                           a_name_a_name_nmw\n",
       "7                            a_name_a_name_sw\n",
       "8         a_country_a_country_jac_qgm_3_qgm_3\n",
       "9     a_country_a_country_cos_dlm_dc0_dlm_dc0\n",
       "10    a_country_a_country_jac_dlm_dc0_dlm_dc0\n",
       "11                    a_country_a_country_mel\n",
       "12               a_country_a_country_lev_dist\n",
       "13                a_country_a_country_lev_sim\n",
       "14                    a_country_a_country_nmw\n",
       "15                     a_country_a_country_sw\n",
       "16              a_city_a_city_jac_qgm_3_qgm_3\n",
       "17          a_city_a_city_cos_dlm_dc0_dlm_dc0\n",
       "18          a_city_a_city_jac_dlm_dc0_dlm_dc0\n",
       "19                          a_city_a_city_mel\n",
       "20                     a_city_a_city_lev_dist\n",
       "21                      a_city_a_city_lev_sim\n",
       "22                          a_city_a_city_nmw\n",
       "23                           a_city_a_city_sw\n",
       "24              a_prov_a_prov_jac_qgm_3_qgm_3\n",
       "25          a_prov_a_prov_cos_dlm_dc0_dlm_dc0\n",
       "26          a_prov_a_prov_jac_dlm_dc0_dlm_dc0\n",
       "27                          a_prov_a_prov_mel\n",
       "28                     a_prov_a_prov_lev_dist\n",
       "29                      a_prov_a_prov_lev_sim\n",
       "30                          a_prov_a_prov_nmw\n",
       "31                           a_prov_a_prov_sw\n",
       "32                             is_same_server\n",
       "Name: feature_name, dtype: object"
      ]
     },
     "execution_count": 33,
     "metadata": {},
     "output_type": "execute_result"
    }
   ],
   "source": [
    "# Generate a set of features\n",
    "F = em.get_features_for_matching(WHED, AOM)\n",
    "\n",
    "def is_same_server(ltuple, rtuple):\n",
    "    # Attention, the input argument is not symmetric,\n",
    "    # dealing with missing data, if either table is missing city, return 0\n",
    "    if pd.isnull(ltuple['a_web']) or pd.isnull(rtuple['a_email_server']):\n",
    "        return 0\n",
    "    # return 1 if is same city, 0 otherwise\n",
    "    if ltuple['a_web'] in rtuple['a_email_server'].split('.'):\n",
    "        return 1\n",
    "    else:\n",
    "        return 0\n",
    "\n",
    "em.add_blackbox_feature(F, 'is_same_server', is_same_server)\n",
    "\n",
    "F.feature_name"
   ]
  },
  {
   "cell_type": "code",
   "execution_count": 34,
   "metadata": {
    "collapsed": false
   },
   "outputs": [
    {
     "data": {
      "text/html": [
       "<div>\n",
       "<table border=\"1\" class=\"dataframe\">\n",
       "  <thead>\n",
       "    <tr style=\"text-align: right;\">\n",
       "      <th></th>\n",
       "      <th>_id</th>\n",
       "      <th>ltable_a_id</th>\n",
       "      <th>rtable_person_id</th>\n",
       "      <th>a_name_a_name_jac_qgm_3_qgm_3</th>\n",
       "      <th>a_name_a_name_cos_dlm_dc0_dlm_dc0</th>\n",
       "      <th>a_name_a_name_jac_dlm_dc0_dlm_dc0</th>\n",
       "      <th>a_name_a_name_mel</th>\n",
       "      <th>a_name_a_name_lev_dist</th>\n",
       "      <th>a_name_a_name_lev_sim</th>\n",
       "      <th>a_name_a_name_nmw</th>\n",
       "      <th>...</th>\n",
       "      <th>a_prov_a_prov_jac_qgm_3_qgm_3</th>\n",
       "      <th>a_prov_a_prov_cos_dlm_dc0_dlm_dc0</th>\n",
       "      <th>a_prov_a_prov_jac_dlm_dc0_dlm_dc0</th>\n",
       "      <th>a_prov_a_prov_mel</th>\n",
       "      <th>a_prov_a_prov_lev_dist</th>\n",
       "      <th>a_prov_a_prov_lev_sim</th>\n",
       "      <th>a_prov_a_prov_nmw</th>\n",
       "      <th>a_prov_a_prov_sw</th>\n",
       "      <th>is_same_server</th>\n",
       "      <th>gold_label</th>\n",
       "    </tr>\n",
       "  </thead>\n",
       "  <tbody>\n",
       "    <tr>\n",
       "      <th>80</th>\n",
       "      <td>759</td>\n",
       "      <td>12554</td>\n",
       "      <td>36459</td>\n",
       "      <td>1.000000</td>\n",
       "      <td>1.000000</td>\n",
       "      <td>1.000000</td>\n",
       "      <td>1.000000</td>\n",
       "      <td>0.0</td>\n",
       "      <td>1.000000</td>\n",
       "      <td>29.0</td>\n",
       "      <td>...</td>\n",
       "      <td>NaN</td>\n",
       "      <td>NaN</td>\n",
       "      <td>NaN</td>\n",
       "      <td>NaN</td>\n",
       "      <td>NaN</td>\n",
       "      <td>NaN</td>\n",
       "      <td>NaN</td>\n",
       "      <td>NaN</td>\n",
       "      <td>0</td>\n",
       "      <td>1</td>\n",
       "    </tr>\n",
       "    <tr>\n",
       "      <th>51</th>\n",
       "      <td>521</td>\n",
       "      <td>10527</td>\n",
       "      <td>24053</td>\n",
       "      <td>0.515152</td>\n",
       "      <td>0.707107</td>\n",
       "      <td>0.500000</td>\n",
       "      <td>0.856667</td>\n",
       "      <td>14.0</td>\n",
       "      <td>0.533333</td>\n",
       "      <td>2.0</td>\n",
       "      <td>...</td>\n",
       "      <td>NaN</td>\n",
       "      <td>NaN</td>\n",
       "      <td>NaN</td>\n",
       "      <td>NaN</td>\n",
       "      <td>NaN</td>\n",
       "      <td>NaN</td>\n",
       "      <td>NaN</td>\n",
       "      <td>NaN</td>\n",
       "      <td>0</td>\n",
       "      <td>0</td>\n",
       "    </tr>\n",
       "    <tr>\n",
       "      <th>2</th>\n",
       "      <td>21</td>\n",
       "      <td>15</td>\n",
       "      <td>28818</td>\n",
       "      <td>1.000000</td>\n",
       "      <td>1.000000</td>\n",
       "      <td>1.000000</td>\n",
       "      <td>1.000000</td>\n",
       "      <td>0.0</td>\n",
       "      <td>1.000000</td>\n",
       "      <td>17.0</td>\n",
       "      <td>...</td>\n",
       "      <td>0.0</td>\n",
       "      <td>0.0</td>\n",
       "      <td>0.0</td>\n",
       "      <td>0.0</td>\n",
       "      <td>7.0</td>\n",
       "      <td>0.0</td>\n",
       "      <td>-6.0</td>\n",
       "      <td>0.0</td>\n",
       "      <td>0</td>\n",
       "      <td>1</td>\n",
       "    </tr>\n",
       "    <tr>\n",
       "      <th>216</th>\n",
       "      <td>1857</td>\n",
       "      <td>20242</td>\n",
       "      <td>7908</td>\n",
       "      <td>0.395349</td>\n",
       "      <td>0.632456</td>\n",
       "      <td>0.400000</td>\n",
       "      <td>0.887179</td>\n",
       "      <td>22.0</td>\n",
       "      <td>0.435897</td>\n",
       "      <td>-5.0</td>\n",
       "      <td>...</td>\n",
       "      <td>NaN</td>\n",
       "      <td>NaN</td>\n",
       "      <td>NaN</td>\n",
       "      <td>NaN</td>\n",
       "      <td>NaN</td>\n",
       "      <td>NaN</td>\n",
       "      <td>NaN</td>\n",
       "      <td>NaN</td>\n",
       "      <td>0</td>\n",
       "      <td>1</td>\n",
       "    </tr>\n",
       "    <tr>\n",
       "      <th>104</th>\n",
       "      <td>967</td>\n",
       "      <td>15293</td>\n",
       "      <td>57956</td>\n",
       "      <td>0.416667</td>\n",
       "      <td>0.816497</td>\n",
       "      <td>0.666667</td>\n",
       "      <td>0.596649</td>\n",
       "      <td>24.0</td>\n",
       "      <td>0.111111</td>\n",
       "      <td>-4.0</td>\n",
       "      <td>...</td>\n",
       "      <td>NaN</td>\n",
       "      <td>NaN</td>\n",
       "      <td>NaN</td>\n",
       "      <td>NaN</td>\n",
       "      <td>NaN</td>\n",
       "      <td>NaN</td>\n",
       "      <td>NaN</td>\n",
       "      <td>NaN</td>\n",
       "      <td>0</td>\n",
       "      <td>0</td>\n",
       "    </tr>\n",
       "  </tbody>\n",
       "</table>\n",
       "<p>5 rows × 37 columns</p>\n",
       "</div>"
      ],
      "text/plain": [
       "      _id  ltable_a_id  rtable_person_id  a_name_a_name_jac_qgm_3_qgm_3  \\\n",
       "80    759        12554             36459                       1.000000   \n",
       "51    521        10527             24053                       0.515152   \n",
       "2      21           15             28818                       1.000000   \n",
       "216  1857        20242              7908                       0.395349   \n",
       "104   967        15293             57956                       0.416667   \n",
       "\n",
       "     a_name_a_name_cos_dlm_dc0_dlm_dc0  a_name_a_name_jac_dlm_dc0_dlm_dc0  \\\n",
       "80                            1.000000                           1.000000   \n",
       "51                            0.707107                           0.500000   \n",
       "2                             1.000000                           1.000000   \n",
       "216                           0.632456                           0.400000   \n",
       "104                           0.816497                           0.666667   \n",
       "\n",
       "     a_name_a_name_mel  a_name_a_name_lev_dist  a_name_a_name_lev_sim  \\\n",
       "80            1.000000                     0.0               1.000000   \n",
       "51            0.856667                    14.0               0.533333   \n",
       "2             1.000000                     0.0               1.000000   \n",
       "216           0.887179                    22.0               0.435897   \n",
       "104           0.596649                    24.0               0.111111   \n",
       "\n",
       "     a_name_a_name_nmw     ...      a_prov_a_prov_jac_qgm_3_qgm_3  \\\n",
       "80                29.0     ...                                NaN   \n",
       "51                 2.0     ...                                NaN   \n",
       "2                 17.0     ...                                0.0   \n",
       "216               -5.0     ...                                NaN   \n",
       "104               -4.0     ...                                NaN   \n",
       "\n",
       "     a_prov_a_prov_cos_dlm_dc0_dlm_dc0  a_prov_a_prov_jac_dlm_dc0_dlm_dc0  \\\n",
       "80                                 NaN                                NaN   \n",
       "51                                 NaN                                NaN   \n",
       "2                                  0.0                                0.0   \n",
       "216                                NaN                                NaN   \n",
       "104                                NaN                                NaN   \n",
       "\n",
       "     a_prov_a_prov_mel  a_prov_a_prov_lev_dist  a_prov_a_prov_lev_sim  \\\n",
       "80                 NaN                     NaN                    NaN   \n",
       "51                 NaN                     NaN                    NaN   \n",
       "2                  0.0                     7.0                    0.0   \n",
       "216                NaN                     NaN                    NaN   \n",
       "104                NaN                     NaN                    NaN   \n",
       "\n",
       "     a_prov_a_prov_nmw  a_prov_a_prov_sw  is_same_server  gold_label  \n",
       "80                 NaN               NaN               0           1  \n",
       "51                 NaN               NaN               0           0  \n",
       "2                 -6.0               0.0               0           1  \n",
       "216                NaN               NaN               0           1  \n",
       "104                NaN               NaN               0           0  \n",
       "\n",
       "[5 rows x 37 columns]"
      ]
     },
     "execution_count": 34,
     "metadata": {},
     "output_type": "execute_result"
    }
   ],
   "source": [
    "# Convert the I into a set of feature vectors using F\n",
    "H = em.extract_feature_vecs(I, \n",
    "                            feature_table=F, \n",
    "                            attrs_after='gold_label',\n",
    "                            show_progress=False)  \n",
    "# Display first few rows\n",
    "H.head()\n"
   ]
  },
  {
   "cell_type": "code",
   "execution_count": 35,
   "metadata": {
    "collapsed": false
   },
   "outputs": [
    {
     "data": {
      "text/plain": [
       "True"
      ]
     },
     "execution_count": 35,
     "metadata": {},
     "output_type": "execute_result"
    }
   ],
   "source": [
    "# Check if the feature vectors contain missing values\n",
    "# A return value of True means that there are missing values\n",
    "any(pd.notnull(H))"
   ]
  },
  {
   "cell_type": "code",
   "execution_count": 36,
   "metadata": {
    "collapsed": false
   },
   "outputs": [],
   "source": [
    "# Impute feature vectors with the mean of the column values.\n",
    "H = em.impute_table(H, \n",
    "                exclude_attrs=['_id', 'ltable_' + csv_headers.WHED_INDEX, 'rtable_' + csv_headers.AOM_INDEX, 'gold_label'],\n",
    "                strategy='mean')"
   ]
  },
  {
   "cell_type": "code",
   "execution_count": 37,
   "metadata": {
    "collapsed": false,
    "scrolled": true
   },
   "outputs": [
    {
     "data": {
      "text/html": [
       "<div>\n",
       "<table border=\"1\" class=\"dataframe\">\n",
       "  <thead>\n",
       "    <tr style=\"text-align: right;\">\n",
       "      <th></th>\n",
       "      <th>Name</th>\n",
       "      <th>Matcher</th>\n",
       "      <th>Num folds</th>\n",
       "      <th>Fold 1</th>\n",
       "      <th>Fold 2</th>\n",
       "      <th>Fold 3</th>\n",
       "      <th>Fold 4</th>\n",
       "      <th>Fold 5</th>\n",
       "      <th>Mean score</th>\n",
       "    </tr>\n",
       "  </thead>\n",
       "  <tbody>\n",
       "    <tr>\n",
       "      <th>0</th>\n",
       "      <td>DecisionTree</td>\n",
       "      <td>&lt;py_entitymatching.matcher.dtmatcher.DTMatcher object at 0x10b19a668&gt;</td>\n",
       "      <td>5</td>\n",
       "      <td>0.904762</td>\n",
       "      <td>0.909091</td>\n",
       "      <td>0.750000</td>\n",
       "      <td>0.810811</td>\n",
       "      <td>0.954545</td>\n",
       "      <td>0.865842</td>\n",
       "    </tr>\n",
       "    <tr>\n",
       "      <th>1</th>\n",
       "      <td>RF</td>\n",
       "      <td>&lt;py_entitymatching.matcher.rfmatcher.RFMatcher object at 0x10b19a0b8&gt;</td>\n",
       "      <td>5</td>\n",
       "      <td>0.909091</td>\n",
       "      <td>0.956522</td>\n",
       "      <td>0.846154</td>\n",
       "      <td>0.857143</td>\n",
       "      <td>0.952381</td>\n",
       "      <td>0.904258</td>\n",
       "    </tr>\n",
       "    <tr>\n",
       "      <th>2</th>\n",
       "      <td>SVM</td>\n",
       "      <td>&lt;py_entitymatching.matcher.svmmatcher.SVMMatcher object at 0x10b19a6a0&gt;</td>\n",
       "      <td>5</td>\n",
       "      <td>0.933333</td>\n",
       "      <td>0.958333</td>\n",
       "      <td>0.687500</td>\n",
       "      <td>0.809524</td>\n",
       "      <td>0.913043</td>\n",
       "      <td>0.860347</td>\n",
       "    </tr>\n",
       "    <tr>\n",
       "      <th>3</th>\n",
       "      <td>LinReg</td>\n",
       "      <td>&lt;py_entitymatching.matcher.linregmatcher.LinRegMatcher object at 0x10b18bb38&gt;</td>\n",
       "      <td>5</td>\n",
       "      <td>0.954545</td>\n",
       "      <td>0.977778</td>\n",
       "      <td>0.758621</td>\n",
       "      <td>0.833333</td>\n",
       "      <td>0.930233</td>\n",
       "      <td>0.890902</td>\n",
       "    </tr>\n",
       "    <tr>\n",
       "      <th>4</th>\n",
       "      <td>LogReg</td>\n",
       "      <td>&lt;py_entitymatching.matcher.logregmatcher.LogRegMatcher object at 0x10b19aef0&gt;</td>\n",
       "      <td>5</td>\n",
       "      <td>0.883721</td>\n",
       "      <td>0.977778</td>\n",
       "      <td>0.647059</td>\n",
       "      <td>0.820513</td>\n",
       "      <td>0.930233</td>\n",
       "      <td>0.851861</td>\n",
       "    </tr>\n",
       "  </tbody>\n",
       "</table>\n",
       "</div>"
      ],
      "text/plain": [
       "           Name  \\\n",
       "0  DecisionTree   \n",
       "1            RF   \n",
       "2           SVM   \n",
       "3        LinReg   \n",
       "4        LogReg   \n",
       "\n",
       "                                                                         Matcher  \\\n",
       "0          <py_entitymatching.matcher.dtmatcher.DTMatcher object at 0x10b19a668>   \n",
       "1          <py_entitymatching.matcher.rfmatcher.RFMatcher object at 0x10b19a0b8>   \n",
       "2        <py_entitymatching.matcher.svmmatcher.SVMMatcher object at 0x10b19a6a0>   \n",
       "3  <py_entitymatching.matcher.linregmatcher.LinRegMatcher object at 0x10b18bb38>   \n",
       "4  <py_entitymatching.matcher.logregmatcher.LogRegMatcher object at 0x10b19aef0>   \n",
       "\n",
       "   Num folds    Fold 1    Fold 2    Fold 3    Fold 4    Fold 5  Mean score  \n",
       "0          5  0.904762  0.909091  0.750000  0.810811  0.954545    0.865842  \n",
       "1          5  0.909091  0.956522  0.846154  0.857143  0.952381    0.904258  \n",
       "2          5  0.933333  0.958333  0.687500  0.809524  0.913043    0.860347  \n",
       "3          5  0.954545  0.977778  0.758621  0.833333  0.930233    0.890902  \n",
       "4          5  0.883721  0.977778  0.647059  0.820513  0.930233    0.851861  "
      ]
     },
     "execution_count": 37,
     "metadata": {},
     "output_type": "execute_result"
    }
   ],
   "source": [
    "# Select the best ML matcher using CV\n",
    "result = em.select_matcher([dt, rf, svm, ln, lg], table=H, \n",
    "        exclude_attrs=['_id', 'ltable_' + csv_headers.WHED_INDEX, 'rtable_' + csv_headers.AOM_INDEX, 'gold_label'],\n",
    "        k=5,\n",
    "        target_attr='gold_label', metric='f1', random_state=0)\n",
    "result['cv_stats']"
   ]
  },
  {
   "cell_type": "code",
   "execution_count": 23,
   "metadata": {
    "collapsed": false
   },
   "outputs": [
    {
     "name": "stdout",
     "output_type": "stream",
     "text": [
      "OrderedDict([('selected_matcher', <py_entitymatching.matcher.rfmatcher.RFMatcher object at 0x10c2e5240>), ('cv_stats',            Name  \\\n",
      "0  DecisionTree   \n",
      "1            RF   \n",
      "2           SVM   \n",
      "3        LinReg   \n",
      "4        LogReg   \n",
      "\n",
      "                                                                         Matcher  \\\n",
      "0          <py_entitymatching.matcher.dtmatcher.DTMatcher object at 0x10c2e51d0>   \n",
      "1          <py_entitymatching.matcher.rfmatcher.RFMatcher object at 0x10c2e5240>   \n",
      "2        <py_entitymatching.matcher.svmmatcher.SVMMatcher object at 0x10c2e5208>   \n",
      "3  <py_entitymatching.matcher.linregmatcher.LinRegMatcher object at 0x10c2e5d68>   \n",
      "4  <py_entitymatching.matcher.logregmatcher.LogRegMatcher object at 0x10c2e5f60>   \n",
      "\n",
      "   Num folds    Fold 1    Fold 2    Fold 3    Fold 4    Fold 5  Mean score  \n",
      "0          5  0.956522  0.909091  0.785714  0.780488  0.926829    0.871729  \n",
      "1          5  0.930233  0.978723  0.785714  0.894737  0.930233    0.903928  \n",
      "2          5  0.936170  0.901961  0.666667  0.878049  0.888889    0.854347  \n",
      "3          5  0.909091  0.909091  0.733333  0.842105  0.930233    0.864771  \n",
      "4          5  0.913043  0.913043  0.687500  0.900000  0.904762    0.863670  )])\n"
     ]
    }
   ],
   "source": [
    "print(result)"
   ]
  },
  {
   "cell_type": "code",
   "execution_count": null,
   "metadata": {
    "collapsed": true
   },
   "outputs": [],
   "source": []
  }
 ],
 "metadata": {
  "kernelspec": {
   "display_name": "Python 3",
   "language": "python",
   "name": "python3"
  },
  "language_info": {
   "codemirror_mode": {
    "name": "ipython",
    "version": 3
   },
   "file_extension": ".py",
   "mimetype": "text/x-python",
   "name": "python",
   "nbconvert_exporter": "python",
   "pygments_lexer": "ipython3",
   "version": "3.6.1"
  }
 },
 "nbformat": 4,
 "nbformat_minor": 2
}
