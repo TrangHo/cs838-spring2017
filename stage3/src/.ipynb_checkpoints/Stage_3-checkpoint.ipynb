{
 "cells": [
  {
   "cell_type": "code",
   "execution_count": 1,
   "metadata": {
    "collapsed": false
   },
   "outputs": [
    {
     "ename": "SyntaxError",
     "evalue": "invalid syntax (<ipython-input-1-cbb8758ab937>, line 8)",
     "output_type": "error",
     "traceback": [
      "\u001b[0;36m  File \u001b[0;32m\"<ipython-input-1-cbb8758ab937>\"\u001b[0;36m, line \u001b[0;32m8\u001b[0m\n\u001b[0;31m    jupyter nbextension enable codefolding/main\u001b[0m\n\u001b[0m                      ^\u001b[0m\n\u001b[0;31mSyntaxError\u001b[0m\u001b[0;31m:\u001b[0m invalid syntax\n"
     ]
    }
   ],
   "source": [
    "import sys\n",
    "import py_entitymatching as em\n",
    "print('magellan version:' + em.__version__)\n",
    "import re\n",
    "import csv\n",
    "import pandas as pd\n",
    "\n",
    "jupyter nbextension enable codefolding/main"
   ]
  },
  {
   "cell_type": "code",
   "execution_count": 132,
   "metadata": {
    "collapsed": true
   },
   "outputs": [],
   "source": [
    "path_to_csv_dir = \"/Users/thomasngo/Google Drive/_UW Madison/16-17_S4/CS 838/_Project/Stage3/csv/\""
   ]
  },
  {
   "cell_type": "markdown",
   "metadata": {},
   "source": [
    "# STEP 1 - PRE-PROCESSING DATA\n",
    "\n",
    "In this stage, we need to preprocess data before applying Megellan. This is because our datasets (especially the AOM dataset) are quite dirty, and therefore adversely affecting Megellan's blocking and matching functions. For example, states can take any value of \"CA\", \"California\", or \"CA - California\".\n",
    "\n",
    "In this step, we will clean the following variables:\n",
    "* Country name (e.g. Whed data has 2 Belgiums: (1) Belgium - French Community and (2) Belgium - Flemish Community)\n",
    "* State name\n",
    "* City name\n",
    "* Affiliation name\n",
    "* Email server domain (we will only capture the university information from the email server domain - if there is any)\n",
    "\n",
    "### 1.A. Clean AOM data"
   ]
  },
  {
   "cell_type": "code",
   "execution_count": 123,
   "metadata": {
    "collapsed": false
   },
   "outputs": [
    {
     "data": {
      "text/html": [
       "<div>\n",
       "<table border=\"1\" class=\"dataframe\">\n",
       "  <thead>\n",
       "    <tr style=\"text-align: right;\">\n",
       "      <th></th>\n",
       "      <th>a_name</th>\n",
       "      <th>a_city</th>\n",
       "      <th>a_prov</th>\n",
       "      <th>a_country</th>\n",
       "      <th>a_email_server</th>\n",
       "    </tr>\n",
       "    <tr>\n",
       "      <th>person_id</th>\n",
       "      <th></th>\n",
       "      <th></th>\n",
       "      <th></th>\n",
       "      <th></th>\n",
       "      <th></th>\n",
       "    </tr>\n",
       "  </thead>\n",
       "  <tbody>\n",
       "    <tr>\n",
       "      <th>1</th>\n",
       "      <td>Academy of Management</td>\n",
       "      <td>Briarcliff Manor</td>\n",
       "      <td>NY</td>\n",
       "      <td>UNITED STATES</td>\n",
       "      <td>aom.org</td>\n",
       "    </tr>\n",
       "    <tr>\n",
       "      <th>4</th>\n",
       "      <td>Northeastern U.</td>\n",
       "      <td>Boston</td>\n",
       "      <td>Massachusetts</td>\n",
       "      <td>UNITED STATES</td>\n",
       "      <td>gmail.com</td>\n",
       "    </tr>\n",
       "    <tr>\n",
       "      <th>5</th>\n",
       "      <td>Skidmore College</td>\n",
       "      <td>Saratoga Springs</td>\n",
       "      <td>NY</td>\n",
       "      <td>UNITED STATES</td>\n",
       "      <td>skidmore.edu</td>\n",
       "    </tr>\n",
       "  </tbody>\n",
       "</table>\n",
       "</div>"
      ],
      "text/plain": [
       "                          a_name            a_city         a_prov  \\\n",
       "person_id                                                           \n",
       "1          Academy of Management  Briarcliff Manor             NY   \n",
       "4                Northeastern U.            Boston  Massachusetts   \n",
       "5               Skidmore College  Saratoga Springs             NY   \n",
       "\n",
       "               a_country a_email_server  \n",
       "person_id                                \n",
       "1          UNITED STATES        aom.org  \n",
       "4          UNITED STATES      gmail.com  \n",
       "5          UNITED STATES   skidmore.edu  "
      ]
     },
     "execution_count": 123,
     "metadata": {},
     "output_type": "execute_result"
    }
   ],
   "source": [
    "data = pd.read_csv(path_to_csv_dir + '_aom.csv', encoding = 'ISO-8859-1', index_col = 'person_id')\n",
    "for i in ['full_name','first_name','last_name','phone','fax','email','person_html_name']:\n",
    "    del data[i]\n",
    "data.head(n=3)"
   ]
  },
  {
   "cell_type": "code",
   "execution_count": 124,
   "metadata": {
    "collapsed": false
   },
   "outputs": [
    {
     "data": {
      "text/html": [
       "<div>\n",
       "<table border=\"1\" class=\"dataframe\">\n",
       "  <thead>\n",
       "    <tr style=\"text-align: right;\">\n",
       "      <th></th>\n",
       "      <th>a_name</th>\n",
       "      <th>a_city</th>\n",
       "      <th>a_prov</th>\n",
       "      <th>a_country</th>\n",
       "      <th>a_email_server</th>\n",
       "    </tr>\n",
       "    <tr>\n",
       "      <th>person_id</th>\n",
       "      <th></th>\n",
       "      <th></th>\n",
       "      <th></th>\n",
       "      <th></th>\n",
       "      <th></th>\n",
       "    </tr>\n",
       "  </thead>\n",
       "  <tbody>\n",
       "    <tr>\n",
       "      <th>1</th>\n",
       "      <td>academy management</td>\n",
       "      <td>Briarcliff Manor</td>\n",
       "      <td>NY</td>\n",
       "      <td>UNITED STATES</td>\n",
       "      <td>aom</td>\n",
       "    </tr>\n",
       "    <tr>\n",
       "      <th>4</th>\n",
       "      <td>northeastern university</td>\n",
       "      <td>Boston</td>\n",
       "      <td>Massachusetts</td>\n",
       "      <td>UNITED STATES</td>\n",
       "      <td>gmail</td>\n",
       "    </tr>\n",
       "    <tr>\n",
       "      <th>5</th>\n",
       "      <td>skidmore college</td>\n",
       "      <td>Saratoga Springs</td>\n",
       "      <td>NY</td>\n",
       "      <td>UNITED STATES</td>\n",
       "      <td>skidmore</td>\n",
       "    </tr>\n",
       "  </tbody>\n",
       "</table>\n",
       "</div>"
      ],
      "text/plain": [
       "                            a_name            a_city         a_prov  \\\n",
       "person_id                                                             \n",
       "1               academy management  Briarcliff Manor             NY   \n",
       "4          northeastern university            Boston  Massachusetts   \n",
       "5                 skidmore college  Saratoga Springs             NY   \n",
       "\n",
       "               a_country a_email_server  \n",
       "person_id                                \n",
       "1          UNITED STATES            aom  \n",
       "4          UNITED STATES          gmail  \n",
       "5          UNITED STATES       skidmore  "
      ]
     },
     "execution_count": 124,
     "metadata": {},
     "output_type": "execute_result"
    }
   ],
   "source": [
    "def aomclean_affiliation(a_name):\n",
    "    a_name = a_name.str.replace('U.','University')\n",
    "\n",
    "    to_remove = [' of ', ' at ', ' in ',',', '-', '&', '(', ')', r'\\s+']\n",
    "    for i in to_remove:\n",
    "        a_name = a_name.str.replace(i, \" \")\n",
    "\n",
    "    a_name = a_name.str.replace(\"'\",'')\n",
    "    a_name = a_name.str.lower()\n",
    "    return a_name\n",
    "\n",
    "### CLEAN EMAIL SERVER INFORMATION\n",
    "def aomclean_email_server(a_email_server):\n",
    "    # This function aims to return the essential/ importantant information from individuals' email\n",
    "    # server domain. For example, in the case of email server of \"wharton.upenn.edu\" and university \n",
    "    # website address of \"http://www.upenn.edu\", important is the information \"upenn\". This is\n",
    "    # because we want to map affiliations at the university level, instead of the school level,\n",
    "    #  e.g. Wharton is the business school of University of Pensylvenia. Subsequently, a feature will\n",
    "    #  capture whether the essential information is contained in the affiliation's website address\n",
    "\n",
    "    # In order to extract the important information, we eliminate (1) country domains (e.g. \"au\" is\n",
    "    # Australia's country domain), (2) academic domains (i.e. \"edu\" and \"ac\" )), and (3) common domains\n",
    "    # (e.g. \"com, \"net\", \"info\"). After eliminating these domains, we take the first info - which\n",
    "    # is supposed to capture the highest level of domain at the affiliation level. For example, in\n",
    "    # the case of \"wharton.upenn.edu\", after eliminating the abovementioned domains, we will have\n",
    "    # \"wharton.upenn\", of which \"upenn\" is at the university level and \"wharton\" is at the school\n",
    "    # level. We will only capture the university-evel info, i.e. \"upenn\"\n",
    "\n",
    "\n",
    "    # EXAMPLE: \n",
    "    # \"Catolica Lisbon School of Business and Economics\" - is the business school of Catholic U. Portugal\n",
    "    # AOM's email server domain: \"clsbe.lisboa.ucp.pt\" ; WHED's affiliation website: \"http://www.ucp.pt\"\n",
    "    # -----\n",
    "    # The essential information of the email server domain is \"ucp\"\n",
    "    # \"ucp\" appears in the affiation website\n",
    "    # --> This helps link school to university !!!!!!!! YAYYYYYYY\n",
    "\n",
    "    country_domains = [\"ac\",\"ad\",\"ae\",\"af\",\"ag\",\"ai\",\"al\",\"am\",\"an\",\"ap\",\"aq\",\"ar\",\"as\",\"at\",\"au\",\\\n",
    "                      \"az\",\"ba\",\"bb\",\"be\",\"bf\",\"bg\",\"bh\",\"bi\",\"bm\",\"bn\",\"bo\",\"br\",\"bt\",\"by\",\"bz\",\\\n",
    "                      \"ca\",\"cc\",\"cd\",\"cf\",\"cg\",\"ch\",\"ck\",\"cl\",\"cm\",\"cn\",\"co\",\"cr\",\"cu\",\"cx\",\"cy\",\\\n",
    "                      \"cz\",\"de\",\"dj\",\"dk\",\"do\",\"dz\",\"ec\",\"ee\",\"eg\",\"es\",\"fi\",\"fj\",\"fk\",\"fm\",\"fr\",\\\n",
    "                      \"fo\",\"gb\",\"ge\",\"gf\",\"gg\",\"gh\",\"gi\",\"gl\",\"gm\",\"gn\",\"gr\",\"gs\",\"gt\",\"gu\",\"hk\",\\\n",
    "                      \"hm\",\"hn\",\"hr\",\"hu\",\"id\",\"ie\",\"il\",\"im\",\"in\",\"int\",\"io\",\"ir\",\"is\",\"it\",\"je\",\\\n",
    "                      \"jo\",\"jp\",\"ke\",\"kg\",\"kh\",\"kr\",\"kw\",\"ky\",\"kz\",\"lb\",\"lc\",\"li\",\"lk\",\"lr\",\"lt\",\\\n",
    "                      \"lu\",\"lv\",\"ly\",\"mc\",\"md\",\"mg\",\"mh\",\"mk\",\"mm\",\"mn\",\"mo\",\"mp\",\"mq\",\"mr\",\"ms\",\\\n",
    "                      \"mt\",\"mu\",\"mx\",\"my\",\"mw\",\"na\",\"nc\",\"nf\",\"ni\",\"nl\",\"no\",\"np\",\"nu\",\"nz\",\"om\",\\\n",
    "                      \"pa\",\"pe\",\"pg\",\"ph\",\"pk\",\"qa\",\"re\",\"ro\",\"ru\",\"rw\",\"sa\",\"sb\",\"se\",\"sg\",\"sh\",\\\n",
    "                      \"si\",\"sk\",\"sm\",\"sn\",\"so\",\"st\",\"su\",\"sv\",\"sz\",\"tc\",\"td\",\"tf\",\"th\",\"tj\",\"tm\",\\\n",
    "                      \"tn\",\"to\",\"tp\",\"tr\",\"tt\",\"tv\",\"tw\",\"tz\",\"ua\",\"ug\",\"uk\",\"um\",\"us\",\"uy\",\"uz\",\\\n",
    "                      \"ve\",\"vg\",\"vi\",\"vu\",\"wf\",\"ws\",\"yt\",\"yu\",\"za\",\"zm\"]\n",
    "    academic_domains = [\"edu\", \"ac\"]\n",
    "    common_domains = [\"net\",\"com\",\"info\",\"org\"]\n",
    "\n",
    "    n = a_email_server.size\n",
    "    for i in range (0, n):\n",
    "        email_server = a_email_server.iloc[i].strip().split('.')\n",
    "\n",
    "        # The sequence of the following conditional commands is important. It is because the country\n",
    "        # domains are usually the last one on the right of an email server domain, and it is followed\n",
    "        # either by academic domain and/or common domain. \n",
    "        if email_server[-1] in country_domains:\n",
    "            del email_server[len(email_server)-1]\n",
    "\n",
    "        if email_server[-1] in academic_domains:\n",
    "            del email_server[len(email_server)-1]\n",
    "        if email_server[-1] in common_domains:\n",
    "            del email_server[len(email_server)-1]\n",
    "        if email_server[-1] in academic_domains:\n",
    "            del email_server[len(email_server)-1]\n",
    "\n",
    "        # return the highest level information only\n",
    "        a_email_server.iloc[i] = email_server[len(email_server)-1]\n",
    "    return a_email_server\n",
    "\n",
    "data.a_name = aomclean_affiliation(data.a_name)\n",
    "data.a_email_server = aomclean_email_server(data.a_email_server)\n",
    "\n",
    "data.to_csv(path_to_csv_dir + '_aom_cleaned.csv', encoding = 'ISO-8859-1', index_label = 'person_id')\n",
    "data.head(n=3)\n"
   ]
  },
  {
   "cell_type": "markdown",
   "metadata": {},
   "source": [
    "### 1.B. Clean WHED data"
   ]
  },
  {
   "cell_type": "code",
   "execution_count": 127,
   "metadata": {
    "collapsed": false
   },
   "outputs": [
    {
     "data": {
      "text/html": [
       "<div>\n",
       "<table border=\"1\" class=\"dataframe\">\n",
       "  <thead>\n",
       "    <tr style=\"text-align: right;\">\n",
       "      <th></th>\n",
       "      <th>a_name</th>\n",
       "      <th>a_country</th>\n",
       "      <th>a_city</th>\n",
       "      <th>a_prov</th>\n",
       "      <th>a_web</th>\n",
       "    </tr>\n",
       "    <tr>\n",
       "      <th>a_id</th>\n",
       "      <th></th>\n",
       "      <th></th>\n",
       "      <th></th>\n",
       "      <th></th>\n",
       "      <th></th>\n",
       "    </tr>\n",
       "  </thead>\n",
       "  <tbody>\n",
       "    <tr>\n",
       "      <th>2</th>\n",
       "      <td>Pampanga State Agricultural U.</td>\n",
       "      <td>Philippines</td>\n",
       "      <td>Magalang</td>\n",
       "      <td>Pampanga</td>\n",
       "      <td>http://www.pac.edu.ph</td>\n",
       "    </tr>\n",
       "    <tr>\n",
       "      <th>4</th>\n",
       "      <td>Les Roches International School Hotel Management</td>\n",
       "      <td>Switzerland</td>\n",
       "      <td>Bluche-Crans-Montana</td>\n",
       "      <td>Bluche-Crans-Montana</td>\n",
       "      <td>http://www.lesroches.edu</td>\n",
       "    </tr>\n",
       "    <tr>\n",
       "      <th>6</th>\n",
       "      <td>Dharma Gate Budapest Buddhist U.</td>\n",
       "      <td>Hungary</td>\n",
       "      <td>Budapest</td>\n",
       "      <td>NaN</td>\n",
       "      <td>http://www.tkbf.eu</td>\n",
       "    </tr>\n",
       "  </tbody>\n",
       "</table>\n",
       "</div>"
      ],
      "text/plain": [
       "                                                a_name    a_country  \\\n",
       "a_id                                                                  \n",
       "2                       Pampanga State Agricultural U.  Philippines   \n",
       "4     Les Roches International School Hotel Management  Switzerland   \n",
       "6                     Dharma Gate Budapest Buddhist U.      Hungary   \n",
       "\n",
       "                    a_city                a_prov                     a_web  \n",
       "a_id                                                                        \n",
       "2                 Magalang              Pampanga     http://www.pac.edu.ph  \n",
       "4     Bluche-Crans-Montana  Bluche-Crans-Montana  http://www.lesroches.edu  \n",
       "6                 Budapest                   NaN        http://www.tkbf.eu  "
      ]
     },
     "execution_count": 127,
     "metadata": {},
     "output_type": "execute_result"
    }
   ],
   "source": [
    "data = pd.read_csv(path_to_csv_dir + '_whed.csv', encoding = 'ISO-8859-1', index_col = 'a_id')\n",
    "for i in ['a_street','a_pcode','a_tel']:\n",
    "    del data[i]\n",
    "data.head(n=3)"
   ]
  },
  {
   "cell_type": "code",
   "execution_count": 130,
   "metadata": {
    "collapsed": false
   },
   "outputs": [
    {
     "data": {
      "text/html": [
       "<div>\n",
       "<table border=\"1\" class=\"dataframe\">\n",
       "  <thead>\n",
       "    <tr style=\"text-align: right;\">\n",
       "      <th></th>\n",
       "      <th>a_name</th>\n",
       "      <th>a_country</th>\n",
       "      <th>a_city</th>\n",
       "      <th>a_prov</th>\n",
       "      <th>a_web</th>\n",
       "    </tr>\n",
       "    <tr>\n",
       "      <th>a_id</th>\n",
       "      <th></th>\n",
       "      <th></th>\n",
       "      <th></th>\n",
       "      <th></th>\n",
       "      <th></th>\n",
       "    </tr>\n",
       "  </thead>\n",
       "  <tbody>\n",
       "    <tr>\n",
       "      <th>2</th>\n",
       "      <td>pampanga state agricultural university</td>\n",
       "      <td>Philippines</td>\n",
       "      <td>Magalang</td>\n",
       "      <td>Pampanga</td>\n",
       "      <td>http://www.pac.edu.ph</td>\n",
       "    </tr>\n",
       "    <tr>\n",
       "      <th>4</th>\n",
       "      <td>les roches international school hotel management</td>\n",
       "      <td>Switzerland</td>\n",
       "      <td>Bluche-Crans-Montana</td>\n",
       "      <td>Bluche-Crans-Montana</td>\n",
       "      <td>http://www.lesroches.edu</td>\n",
       "    </tr>\n",
       "    <tr>\n",
       "      <th>6</th>\n",
       "      <td>dharma gate budapest buddhist university</td>\n",
       "      <td>Hungary</td>\n",
       "      <td>Budapest</td>\n",
       "      <td>NaN</td>\n",
       "      <td>http://www.tkbf.eu</td>\n",
       "    </tr>\n",
       "  </tbody>\n",
       "</table>\n",
       "</div>"
      ],
      "text/plain": [
       "                                                a_name    a_country  \\\n",
       "a_id                                                                  \n",
       "2               pampanga state agricultural university  Philippines   \n",
       "4     les roches international school hotel management  Switzerland   \n",
       "6             dharma gate budapest buddhist university      Hungary   \n",
       "\n",
       "                    a_city                a_prov                     a_web  \n",
       "a_id                                                                        \n",
       "2                 Magalang              Pampanga     http://www.pac.edu.ph  \n",
       "4     Bluche-Crans-Montana  Bluche-Crans-Montana  http://www.lesroches.edu  \n",
       "6                 Budapest                   NaN        http://www.tkbf.eu  "
      ]
     },
     "execution_count": 130,
     "metadata": {},
     "output_type": "execute_result"
    }
   ],
   "source": [
    "def whedclean_affiliation(a_name):\n",
    "    a_name = a_name.str.replace('U.','University')\n",
    "\n",
    "    to_remove = [' of ', ' at ', ' in ',',', '-', '&', '(', ')', r'\\s+']\n",
    "    for i in to_remove:\n",
    "        a_name = a_name.str.replace(i, \" \")\n",
    "\n",
    "    a_name = a_name.str.replace(\"'\",'')\n",
    "    a_name = a_name.str.lower()\n",
    "    return a_name\n",
    "\n",
    "data.a_name = whedclean_affiliation(data.a_name)\n",
    "\n",
    "data.to_csv(path_to_csv_dir + '_whed_cleaned.csv', encoding = 'ISO-8859-1', index_label = 'a_id')\n",
    "data.head(n=3)\n"
   ]
  },
  {
   "cell_type": "markdown",
   "metadata": {},
   "source": [
    "# STEP 2 - MAGELLAN - BLOCKING"
   ]
  },
  {
   "cell_type": "code",
   "execution_count": 37,
   "metadata": {
    "collapsed": false
   },
   "outputs": [
    {
     "name": "stderr",
     "output_type": "stream",
     "text": [
      "Metadata file is not present in the given path; proceeding to read the csv file.\n"
     ]
    },
    {
     "ename": "UnicodeDecodeError",
     "evalue": "'utf-8' codec can't decode byte 0x80 in position 13: invalid start byte",
     "output_type": "error",
     "traceback": [
      "\u001b[0;31m---------------------------------------------------------------------------\u001b[0m",
      "\u001b[0;31mUnicodeDecodeError\u001b[0m                        Traceback (most recent call last)",
      "\u001b[0;32m<ipython-input-37-3033fb7c32d5>\u001b[0m in \u001b[0;36m<module>\u001b[0;34m()\u001b[0m\n\u001b[1;32m      1\u001b[0m \u001b[0mpath_to_csv_dir\u001b[0m \u001b[0;34m=\u001b[0m \u001b[0;34m\"/Users/thomasngo/Google Drive/_UW Madison/16-17_S4/CS 838/_Project/Stage3/csv/\"\u001b[0m\u001b[0;34m\u001b[0m\u001b[0m\n\u001b[0;32m----> 2\u001b[0;31m \u001b[0mA\u001b[0m \u001b[0;34m=\u001b[0m \u001b[0mem\u001b[0m\u001b[0;34m.\u001b[0m\u001b[0mread_csv_metadata\u001b[0m\u001b[0;34m(\u001b[0m\u001b[0mpath_to_csv_dir\u001b[0m \u001b[0;34m+\u001b[0m \u001b[0;34m'_aom.csv'\u001b[0m\u001b[0;34m,\u001b[0m \u001b[0mkey\u001b[0m \u001b[0;34m=\u001b[0m \u001b[0;34m'person_id'\u001b[0m\u001b[0;34m)\u001b[0m\u001b[0;34m\u001b[0m\u001b[0m\n\u001b[0m\u001b[1;32m      3\u001b[0m \u001b[0;31m# print(em.get_key(A))\u001b[0m\u001b[0;34m\u001b[0m\u001b[0;34m\u001b[0m\u001b[0m\n\u001b[1;32m      4\u001b[0m \u001b[0;31m#\u001b[0m\u001b[0;34m\u001b[0m\u001b[0;34m\u001b[0m\u001b[0m\n\u001b[1;32m      5\u001b[0m \u001b[0mB\u001b[0m \u001b[0;34m=\u001b[0m \u001b[0mem\u001b[0m\u001b[0;34m.\u001b[0m\u001b[0mread_csv_metadata\u001b[0m\u001b[0;34m(\u001b[0m\u001b[0mpath_to_csv_dir\u001b[0m \u001b[0;34m+\u001b[0m \u001b[0;34m'_whed.csv'\u001b[0m\u001b[0;34m,\u001b[0m \u001b[0mkey\u001b[0m \u001b[0;34m=\u001b[0m \u001b[0;34m'a_id'\u001b[0m\u001b[0;34m)\u001b[0m\u001b[0;34m\u001b[0m\u001b[0m\n",
      "\u001b[0;32m/usr/local/lib/python3.6/site-packages/py_entitymatching/io/parsers.py\u001b[0m in \u001b[0;36mread_csv_metadata\u001b[0;34m(file_path, **kwargs)\u001b[0m\n\u001b[1;32m    125\u001b[0m \u001b[0;34m\u001b[0m\u001b[0m\n\u001b[1;32m    126\u001b[0m     \u001b[0;31m# Read the csv file using pandas read_csv method.\u001b[0m\u001b[0;34m\u001b[0m\u001b[0;34m\u001b[0m\u001b[0m\n\u001b[0;32m--> 127\u001b[0;31m     \u001b[0mdata_frame\u001b[0m \u001b[0;34m=\u001b[0m \u001b[0mpd\u001b[0m\u001b[0;34m.\u001b[0m\u001b[0mread_csv\u001b[0m\u001b[0;34m(\u001b[0m\u001b[0mfile_path\u001b[0m\u001b[0;34m,\u001b[0m \u001b[0;34m**\u001b[0m\u001b[0mkwargs\u001b[0m\u001b[0;34m)\u001b[0m\u001b[0;34m\u001b[0m\u001b[0m\n\u001b[0m\u001b[1;32m    128\u001b[0m \u001b[0;34m\u001b[0m\u001b[0m\n\u001b[1;32m    129\u001b[0m     \u001b[0;31m# Get the value for 'key' property and update the catalog.\u001b[0m\u001b[0;34m\u001b[0m\u001b[0;34m\u001b[0m\u001b[0m\n",
      "\u001b[0;32m/usr/local/lib/python3.6/site-packages/pandas/io/parsers.py\u001b[0m in \u001b[0;36mparser_f\u001b[0;34m(filepath_or_buffer, sep, delimiter, header, names, index_col, usecols, squeeze, prefix, mangle_dupe_cols, dtype, engine, converters, true_values, false_values, skipinitialspace, skiprows, nrows, na_values, keep_default_na, na_filter, verbose, skip_blank_lines, parse_dates, infer_datetime_format, keep_date_col, date_parser, dayfirst, iterator, chunksize, compression, thousands, decimal, lineterminator, quotechar, quoting, escapechar, comment, encoding, dialect, tupleize_cols, error_bad_lines, warn_bad_lines, skipfooter, skip_footer, doublequote, delim_whitespace, as_recarray, compact_ints, use_unsigned, low_memory, buffer_lines, memory_map, float_precision)\u001b[0m\n\u001b[1;32m    644\u001b[0m                     skip_blank_lines=skip_blank_lines)\n\u001b[1;32m    645\u001b[0m \u001b[0;34m\u001b[0m\u001b[0m\n\u001b[0;32m--> 646\u001b[0;31m         \u001b[0;32mreturn\u001b[0m \u001b[0m_read\u001b[0m\u001b[0;34m(\u001b[0m\u001b[0mfilepath_or_buffer\u001b[0m\u001b[0;34m,\u001b[0m \u001b[0mkwds\u001b[0m\u001b[0;34m)\u001b[0m\u001b[0;34m\u001b[0m\u001b[0m\n\u001b[0m\u001b[1;32m    647\u001b[0m \u001b[0;34m\u001b[0m\u001b[0m\n\u001b[1;32m    648\u001b[0m     \u001b[0mparser_f\u001b[0m\u001b[0;34m.\u001b[0m\u001b[0m__name__\u001b[0m \u001b[0;34m=\u001b[0m \u001b[0mname\u001b[0m\u001b[0;34m\u001b[0m\u001b[0m\n",
      "\u001b[0;32m/usr/local/lib/python3.6/site-packages/pandas/io/parsers.py\u001b[0m in \u001b[0;36m_read\u001b[0;34m(filepath_or_buffer, kwds)\u001b[0m\n\u001b[1;32m    399\u001b[0m         \u001b[0;32mreturn\u001b[0m \u001b[0mparser\u001b[0m\u001b[0;34m\u001b[0m\u001b[0m\n\u001b[1;32m    400\u001b[0m \u001b[0;34m\u001b[0m\u001b[0m\n\u001b[0;32m--> 401\u001b[0;31m     \u001b[0mdata\u001b[0m \u001b[0;34m=\u001b[0m \u001b[0mparser\u001b[0m\u001b[0;34m.\u001b[0m\u001b[0mread\u001b[0m\u001b[0;34m(\u001b[0m\u001b[0;34m)\u001b[0m\u001b[0;34m\u001b[0m\u001b[0m\n\u001b[0m\u001b[1;32m    402\u001b[0m     \u001b[0mparser\u001b[0m\u001b[0;34m.\u001b[0m\u001b[0mclose\u001b[0m\u001b[0;34m(\u001b[0m\u001b[0;34m)\u001b[0m\u001b[0;34m\u001b[0m\u001b[0m\n\u001b[1;32m    403\u001b[0m     \u001b[0;32mreturn\u001b[0m \u001b[0mdata\u001b[0m\u001b[0;34m\u001b[0m\u001b[0m\n",
      "\u001b[0;32m/usr/local/lib/python3.6/site-packages/pandas/io/parsers.py\u001b[0m in \u001b[0;36mread\u001b[0;34m(self, nrows)\u001b[0m\n\u001b[1;32m    937\u001b[0m                 \u001b[0;32mraise\u001b[0m \u001b[0mValueError\u001b[0m\u001b[0;34m(\u001b[0m\u001b[0;34m'skipfooter not supported for iteration'\u001b[0m\u001b[0;34m)\u001b[0m\u001b[0;34m\u001b[0m\u001b[0m\n\u001b[1;32m    938\u001b[0m \u001b[0;34m\u001b[0m\u001b[0m\n\u001b[0;32m--> 939\u001b[0;31m         \u001b[0mret\u001b[0m \u001b[0;34m=\u001b[0m \u001b[0mself\u001b[0m\u001b[0;34m.\u001b[0m\u001b[0m_engine\u001b[0m\u001b[0;34m.\u001b[0m\u001b[0mread\u001b[0m\u001b[0;34m(\u001b[0m\u001b[0mnrows\u001b[0m\u001b[0;34m)\u001b[0m\u001b[0;34m\u001b[0m\u001b[0m\n\u001b[0m\u001b[1;32m    940\u001b[0m \u001b[0;34m\u001b[0m\u001b[0m\n\u001b[1;32m    941\u001b[0m         \u001b[0;32mif\u001b[0m \u001b[0mself\u001b[0m\u001b[0;34m.\u001b[0m\u001b[0moptions\u001b[0m\u001b[0;34m.\u001b[0m\u001b[0mget\u001b[0m\u001b[0;34m(\u001b[0m\u001b[0;34m'as_recarray'\u001b[0m\u001b[0;34m)\u001b[0m\u001b[0;34m:\u001b[0m\u001b[0;34m\u001b[0m\u001b[0m\n",
      "\u001b[0;32m/usr/local/lib/python3.6/site-packages/pandas/io/parsers.py\u001b[0m in \u001b[0;36mread\u001b[0;34m(self, nrows)\u001b[0m\n\u001b[1;32m   1506\u001b[0m     \u001b[0;32mdef\u001b[0m \u001b[0mread\u001b[0m\u001b[0;34m(\u001b[0m\u001b[0mself\u001b[0m\u001b[0;34m,\u001b[0m \u001b[0mnrows\u001b[0m\u001b[0;34m=\u001b[0m\u001b[0;32mNone\u001b[0m\u001b[0;34m)\u001b[0m\u001b[0;34m:\u001b[0m\u001b[0;34m\u001b[0m\u001b[0m\n\u001b[1;32m   1507\u001b[0m         \u001b[0;32mtry\u001b[0m\u001b[0;34m:\u001b[0m\u001b[0;34m\u001b[0m\u001b[0m\n\u001b[0;32m-> 1508\u001b[0;31m             \u001b[0mdata\u001b[0m \u001b[0;34m=\u001b[0m \u001b[0mself\u001b[0m\u001b[0;34m.\u001b[0m\u001b[0m_reader\u001b[0m\u001b[0;34m.\u001b[0m\u001b[0mread\u001b[0m\u001b[0;34m(\u001b[0m\u001b[0mnrows\u001b[0m\u001b[0;34m)\u001b[0m\u001b[0;34m\u001b[0m\u001b[0m\n\u001b[0m\u001b[1;32m   1509\u001b[0m         \u001b[0;32mexcept\u001b[0m \u001b[0mStopIteration\u001b[0m\u001b[0;34m:\u001b[0m\u001b[0;34m\u001b[0m\u001b[0m\n\u001b[1;32m   1510\u001b[0m             \u001b[0;32mif\u001b[0m \u001b[0mself\u001b[0m\u001b[0;34m.\u001b[0m\u001b[0m_first_chunk\u001b[0m\u001b[0;34m:\u001b[0m\u001b[0;34m\u001b[0m\u001b[0m\n",
      "\u001b[0;32mpandas/parser.pyx\u001b[0m in \u001b[0;36mpandas.parser.TextReader.read (pandas/parser.c:10415)\u001b[0;34m()\u001b[0m\n",
      "\u001b[0;32mpandas/parser.pyx\u001b[0m in \u001b[0;36mpandas.parser.TextReader._read_low_memory (pandas/parser.c:10691)\u001b[0;34m()\u001b[0m\n",
      "\u001b[0;32mpandas/parser.pyx\u001b[0m in \u001b[0;36mpandas.parser.TextReader._read_rows (pandas/parser.c:11728)\u001b[0;34m()\u001b[0m\n",
      "\u001b[0;32mpandas/parser.pyx\u001b[0m in \u001b[0;36mpandas.parser.TextReader._convert_column_data (pandas/parser.c:13162)\u001b[0;34m()\u001b[0m\n",
      "\u001b[0;32mpandas/parser.pyx\u001b[0m in \u001b[0;36mpandas.parser.TextReader._convert_tokens (pandas/parser.c:14116)\u001b[0;34m()\u001b[0m\n",
      "\u001b[0;32mpandas/parser.pyx\u001b[0m in \u001b[0;36mpandas.parser.TextReader._convert_with_dtype (pandas/parser.c:16172)\u001b[0;34m()\u001b[0m\n",
      "\u001b[0;32mpandas/parser.pyx\u001b[0m in \u001b[0;36mpandas.parser.TextReader._string_convert (pandas/parser.c:16400)\u001b[0;34m()\u001b[0m\n",
      "\u001b[0;32mpandas/parser.pyx\u001b[0m in \u001b[0;36mpandas.parser._string_box_utf8 (pandas/parser.c:22072)\u001b[0;34m()\u001b[0m\n",
      "\u001b[0;31mUnicodeDecodeError\u001b[0m: 'utf-8' codec can't decode byte 0x80 in position 13: invalid start byte"
     ]
    }
   ],
   "source": [
    "\n",
    "A = em.read_csv_metadata(path_to_csv_dir + '_aom.csv', key = 'person_id')\n",
    "print(em.get_key(A))\n",
    "\n",
    "B = em.read_csv_metadata(path_to_csv_dir + '_whed.csv', key = 'a_id')\n",
    "print(em.get_key(B))\n"
   ]
  },
  {
   "cell_type": "code",
   "execution_count": 26,
   "metadata": {
    "collapsed": false
   },
   "outputs": [
    {
     "name": "stdout",
     "output_type": "stream",
     "text": [
      "telfer school management university ottawa\n"
     ]
    }
   ],
   "source": [
    "sample_A, sample_B = em.down_sample(A, B, size=500, y_param=1)\n"
   ]
  },
  {
   "cell_type": "code",
   "execution_count": 2,
   "metadata": {
    "collapsed": false
   },
   "outputs": [
    {
     "ename": "TypeError",
     "evalue": "replace() argument 1 must be str, not list",
     "output_type": "error",
     "traceback": [
      "\u001b[0;31m---------------------------------------------------------------------------\u001b[0m",
      "\u001b[0;31mTypeError\u001b[0m                                 Traceback (most recent call last)",
      "\u001b[0;32m<ipython-input-2-af0e65b4ec84>\u001b[0m in \u001b[0;36m<module>\u001b[0;34m()\u001b[0m\n\u001b[1;32m      1\u001b[0m \u001b[0mstring\u001b[0m \u001b[0;34m=\u001b[0m \u001b[0;34m\"asfdasvasrgardgvd - rgvdafvasdfdsa\"\u001b[0m\u001b[0;34m\u001b[0m\u001b[0m\n\u001b[0;32m----> 2\u001b[0;31m \u001b[0mstring\u001b[0m\u001b[0;34m.\u001b[0m\u001b[0mreplace\u001b[0m\u001b[0;34m(\u001b[0m\u001b[0;34m[\u001b[0m\u001b[0;34m'-'\u001b[0m\u001b[0;34m]\u001b[0m\u001b[0;34m,\u001b[0m\u001b[0;34m[\u001b[0m\u001b[0;34m' '\u001b[0m\u001b[0;34m]\u001b[0m\u001b[0;34m)\u001b[0m\u001b[0;34m\u001b[0m\u001b[0m\n\u001b[0m",
      "\u001b[0;31mTypeError\u001b[0m: replace() argument 1 must be str, not list"
     ]
    }
   ],
   "source": [
    "string = \"asfdasvasrgardgvd - rgvdafvasdfdsa\"\n",
    "string.re\n",
    "string.replace(i for i in ['a','b','c'],' ')"
   ]
  },
  {
   "cell_type": "code",
   "execution_count": null,
   "metadata": {
    "collapsed": true
   },
   "outputs": [],
   "source": []
  }
 ],
 "metadata": {
  "kernelspec": {
   "display_name": "Python 3",
   "language": "python",
   "name": "python3"
  },
  "language_info": {
   "codemirror_mode": {
    "name": "ipython",
    "version": 3
   },
   "file_extension": ".py",
   "mimetype": "text/x-python",
   "name": "python",
   "nbconvert_exporter": "python",
   "pygments_lexer": "ipython3",
   "version": "3.6.1"
  }
 },
 "nbformat": 4,
 "nbformat_minor": 2
}
