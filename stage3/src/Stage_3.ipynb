{
 "cells": [
  {
   "cell_type": "code",
   "execution_count": 1,
   "metadata": {
    "collapsed": false
   },
   "outputs": [
    {
     "name": "stdout",
     "output_type": "stream",
     "text": [
      "magellan version:0.1.0\n"
     ]
    }
   ],
   "source": [
    "import sys\n",
    "import os\n",
    "import py_entitymatching as em\n",
    "print('magellan version:' + em.__version__)\n",
    "import re\n",
    "import csv\n",
    "import pandas as pd\n",
    "\n",
    "from cleaner import Cleaner\n",
    "from constants import csv_headers"
   ]
  },
  {
   "cell_type": "code",
   "execution_count": 2,
   "metadata": {
    "collapsed": false
   },
   "outputs": [],
   "source": [
    "working_dir = os.path.dirname(os.getcwd())\n",
    "path_to_csv_dir = working_dir + os.sep + 'csv_files'+ os.sep"
   ]
  },
  {
   "cell_type": "markdown",
   "metadata": {},
   "source": [
    "# STEP 1 - PRE-PROCESSING DATA\n",
    "\n",
    "In this stage, we need to preprocess data before applying Megellan. This is because our datasets (especially the AOM dataset) are quite dirty, and therefore adversely affecting Megellan's blocking and matching functions. For example, states can take any value of \"CA\", \"California\", or \"CA - California\".\n",
    "\n",
    "In this step, we will clean the following variables:\n",
    "* Country name (e.g. Whed data has 2 Belgiums: (1) Belgium - French Community and (2) Belgium - Flemish Community)\n",
    "* State name\n",
    "* City name\n",
    "* Affiliation name\n",
    "* Email server domain (we will only capture the university information from the email server domain - if there is any)\n"
   ]
  },
  {
   "cell_type": "markdown",
   "metadata": {},
   "source": [
    "### 1.A. Clean AOM data"
   ]
  },
  {
   "cell_type": "code",
   "execution_count": 3,
   "metadata": {
    "collapsed": false
   },
   "outputs": [
    {
     "data": {
      "text/html": [
       "<div>\n",
       "<table border=\"1\" class=\"dataframe\">\n",
       "  <thead>\n",
       "    <tr style=\"text-align: right;\">\n",
       "      <th></th>\n",
       "      <th>a_name</th>\n",
       "      <th>a_city</th>\n",
       "      <th>a_prov</th>\n",
       "      <th>a_country</th>\n",
       "      <th>a_email_server</th>\n",
       "    </tr>\n",
       "    <tr>\n",
       "      <th>person_id</th>\n",
       "      <th></th>\n",
       "      <th></th>\n",
       "      <th></th>\n",
       "      <th></th>\n",
       "      <th></th>\n",
       "    </tr>\n",
       "  </thead>\n",
       "  <tbody>\n",
       "    <tr>\n",
       "      <th>1</th>\n",
       "      <td>academy management</td>\n",
       "      <td>briarcliff manor</td>\n",
       "      <td>new york</td>\n",
       "      <td>united states</td>\n",
       "      <td>aom</td>\n",
       "    </tr>\n",
       "    <tr>\n",
       "      <th>4</th>\n",
       "      <td>northeastern university</td>\n",
       "      <td>boston</td>\n",
       "      <td>massachusetts</td>\n",
       "      <td>united states</td>\n",
       "      <td>gmail</td>\n",
       "    </tr>\n",
       "    <tr>\n",
       "      <th>5</th>\n",
       "      <td>skidmore college</td>\n",
       "      <td>saratoga springs</td>\n",
       "      <td>new york</td>\n",
       "      <td>united states</td>\n",
       "      <td>skidmore</td>\n",
       "    </tr>\n",
       "  </tbody>\n",
       "</table>\n",
       "</div>"
      ],
      "text/plain": [
       "                            a_name            a_city         a_prov  \\\n",
       "person_id                                                             \n",
       "1               academy management  briarcliff manor       new york   \n",
       "4          northeastern university            boston  massachusetts   \n",
       "5                 skidmore college  saratoga springs       new york   \n",
       "\n",
       "               a_country a_email_server  \n",
       "person_id                                \n",
       "1          united states            aom  \n",
       "4          united states          gmail  \n",
       "5          united states       skidmore  "
      ]
     },
     "execution_count": 3,
     "metadata": {},
     "output_type": "execute_result"
    }
   ],
   "source": [
    "aom_cleaner = Cleaner(path_to_csv_dir + '_aom.csv', csv_headers.AOM_INDEX, csv_headers.AOM)\n",
    "\n",
    "aom_cleaner.clean_affiliation('a_name')\n",
    "aom_cleaner.clean_email_server('a_email_server')\n",
    "aom_cleaner.clean_city('a_city')\n",
    "aom_cleaner.clean_country('a_country')\n",
    "aom_cleaner.clean_states('a_prov', 'a_country')\n",
    "\n",
    "aom_cleaner.to_csv(path_to_csv_dir + '_aom_cleaned.csv')\n",
    "aom_cleaner.data.head(n=3)"
   ]
  },
  {
   "cell_type": "markdown",
   "metadata": {},
   "source": [
    "### 1.B. Clean WHED data"
   ]
  },
  {
   "cell_type": "code",
   "execution_count": 4,
   "metadata": {
    "collapsed": false,
    "scrolled": true
   },
   "outputs": [
    {
     "data": {
      "text/html": [
       "<div>\n",
       "<table border=\"1\" class=\"dataframe\">\n",
       "  <thead>\n",
       "    <tr style=\"text-align: right;\">\n",
       "      <th></th>\n",
       "      <th>a_name</th>\n",
       "      <th>a_country</th>\n",
       "      <th>a_city</th>\n",
       "      <th>a_prov</th>\n",
       "      <th>a_web</th>\n",
       "    </tr>\n",
       "    <tr>\n",
       "      <th>a_id</th>\n",
       "      <th></th>\n",
       "      <th></th>\n",
       "      <th></th>\n",
       "      <th></th>\n",
       "      <th></th>\n",
       "    </tr>\n",
       "  </thead>\n",
       "  <tbody>\n",
       "    <tr>\n",
       "      <th>2</th>\n",
       "      <td>pampanga state agricultural university</td>\n",
       "      <td>philippines</td>\n",
       "      <td>magalang</td>\n",
       "      <td>Pampanga</td>\n",
       "      <td>http://www.pac.edu.ph</td>\n",
       "    </tr>\n",
       "    <tr>\n",
       "      <th>4</th>\n",
       "      <td>les roches international school hotel management</td>\n",
       "      <td>switzerland</td>\n",
       "      <td>bluche crans montana</td>\n",
       "      <td>Bluche-Crans-Montana</td>\n",
       "      <td>http://www.lesroches.edu</td>\n",
       "    </tr>\n",
       "    <tr>\n",
       "      <th>6</th>\n",
       "      <td>dharma gate budapest buddhist university</td>\n",
       "      <td>hungary</td>\n",
       "      <td>budapest</td>\n",
       "      <td>NaN</td>\n",
       "      <td>http://www.tkbf.eu</td>\n",
       "    </tr>\n",
       "  </tbody>\n",
       "</table>\n",
       "</div>"
      ],
      "text/plain": [
       "                                                a_name    a_country  \\\n",
       "a_id                                                                  \n",
       "2               pampanga state agricultural university  philippines   \n",
       "4     les roches international school hotel management  switzerland   \n",
       "6             dharma gate budapest buddhist university      hungary   \n",
       "\n",
       "                    a_city                a_prov                     a_web  \n",
       "a_id                                                                        \n",
       "2                 magalang              Pampanga     http://www.pac.edu.ph  \n",
       "4     bluche crans montana  Bluche-Crans-Montana  http://www.lesroches.edu  \n",
       "6                 budapest                   NaN        http://www.tkbf.eu  "
      ]
     },
     "execution_count": 4,
     "metadata": {},
     "output_type": "execute_result"
    }
   ],
   "source": [
    "whed_cleaner = Cleaner(path_to_csv_dir + '_whed.csv', csv_headers.WHED_INDEX, csv_headers.WHED, encoding = 'ISO-8859-1')\n",
    "\n",
    "whed_cleaner.clean_affiliation('a_name')\n",
    "whed_cleaner.clean_city('a_city')\n",
    "whed_cleaner.clean_country('a_country')\n",
    "\n",
    "whed_cleaner.to_csv(path_to_csv_dir + '_whed_cleaned.csv')\n",
    "whed_cleaner.data.head(n=3)"
   ]
  },
  {
   "cell_type": "markdown",
   "metadata": {},
   "source": [
    "# STEP 2 - MAGELLAN - BLOCKING"
   ]
  },
  {
   "cell_type": "code",
   "execution_count": 5,
   "metadata": {
    "collapsed": false
   },
   "outputs": [
    {
     "name": "stderr",
     "output_type": "stream",
     "text": [
      "Metadata file is not present in the given path; proceeding to read the csv file.\n",
      "Metadata file is not present in the given path; proceeding to read the csv file.\n"
     ]
    },
    {
     "name": "stdout",
     "output_type": "stream",
     "text": [
      "person_id\n",
      "a_id\n"
     ]
    }
   ],
   "source": [
    "\n",
    "A = em.read_csv_metadata(path_to_csv_dir + '_aom.csv', key = csv_headers.AOM_INDEX)\n",
    "print(em.get_key(A))\n",
    "\n",
    "B = em.read_csv_metadata(path_to_csv_dir + '_whed.csv', key = csv_headers.WHED_INDEX)\n",
    "print(em.get_key(B))\n"
   ]
  },
  {
   "cell_type": "code",
   "execution_count": 26,
   "metadata": {
    "collapsed": false
   },
   "outputs": [
    {
     "name": "stdout",
     "output_type": "stream",
     "text": [
      "telfer school management university ottawa\n"
     ]
    }
   ],
   "source": [
    "sample_A, sample_B = em.down_sample(A, B, size=500, y_param=1)\n"
   ]
  },
  {
   "cell_type": "code",
   "execution_count": null,
   "metadata": {
    "collapsed": false
   },
   "outputs": [],
   "source": []
  },
  {
   "cell_type": "code",
   "execution_count": null,
   "metadata": {
    "collapsed": true
   },
   "outputs": [],
   "source": []
  }
 ],
 "metadata": {
  "kernelspec": {
   "display_name": "Python 3",
   "language": "python",
   "name": "python3"
  },
  "language_info": {
   "codemirror_mode": {
    "name": "ipython",
    "version": 3
   },
   "file_extension": ".py",
   "mimetype": "text/x-python",
   "name": "python",
   "nbconvert_exporter": "python",
   "pygments_lexer": "ipython3",
   "version": "3.6.1"
  }
 },
 "nbformat": 4,
 "nbformat_minor": 2
}
